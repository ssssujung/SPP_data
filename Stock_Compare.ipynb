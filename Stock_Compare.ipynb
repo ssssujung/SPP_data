{
 "cells": [
  {
   "cell_type": "code",
   "execution_count": null,
   "id": "43ba100e",
   "metadata": {},
   "outputs": [],
   "source": [
    "import pandas as pd\n",
    "fname_input = 'TSLA.csv'\n",
    "data = pd.read_csv(fname_input)"
   ]
  },
  {
   "cell_type": "code",
   "execution_count": null,
   "id": "d2ab79ea",
   "metadata": {},
   "outputs": [],
   "source": [
    "print(data.head())"
   ]
  },
  {
   "cell_type": "code",
   "execution_count": null,
   "id": "0aa33d24",
   "metadata": {},
   "outputs": [],
   "source": [
    "data['upDown'] = 0 # -1 : down, 1: up, 0 : same(default)\n",
    "print(data.head())"
   ]
  },
  {
   "cell_type": "code",
   "execution_count": null,
   "id": "879075dd",
   "metadata": {},
   "outputs": [],
   "source": [
    "for i in range(data.shape[0]) :\n",
    "    num = data.loc[i, 'Close'] - data.loc[i, 'Open']\n",
    "    if num < 0 : data.loc[i, 'upDown'] = -1\n",
    "    elif num > 0 : data.loc[i, 'upDown'] = 1\n",
    "    else : data.loc[i, 'upDown'] = 0"
   ]
  },
  {
   "cell_type": "code",
   "execution_count": null,
   "id": "97473b1d",
   "metadata": {},
   "outputs": [],
   "source": [
    "print(data.head())"
   ]
  },
  {
   "cell_type": "code",
   "execution_count": null,
   "id": "bed16206",
   "metadata": {},
   "outputs": [],
   "source": [
    "data.to_csv('TSLA_addStockComp.csv')"
   ]
  }
 ],
 "metadata": {
  "kernelspec": {
   "display_name": "Python 3 (ipykernel)",
   "language": "python",
   "name": "python3"
  },
  "language_info": {
   "codemirror_mode": {
    "name": "ipython",
    "version": 3
   },
   "file_extension": ".py",
   "mimetype": "text/x-python",
   "name": "python",
   "nbconvert_exporter": "python",
   "pygments_lexer": "ipython3",
   "version": "3.7.11"
  }
 },
 "nbformat": 4,
 "nbformat_minor": 5
}
