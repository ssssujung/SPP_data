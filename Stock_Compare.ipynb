{
 "cells": [
  {
   "cell_type": "code",
   "execution_count": 2,
   "id": "43ba100e",
   "metadata": {},
   "outputs": [],
   "source": [
    "import pandas as pd\n",
    "fname_input = 'TSLA.csv'\n",
    "data = pd.read_csv(fname_input)"
   ]
  },
  {
   "cell_type": "code",
   "execution_count": 3,
   "id": "d2ab79ea",
   "metadata": {},
   "outputs": [
    {
     "name": "stdout",
     "output_type": "stream",
     "text": [
      "         Date   Open   High    Low  Close  Adj Close    Volume\n",
      "0  2010-06-29  3.800  5.000  3.508  4.778      4.778  93831500\n",
      "1  2010-06-30  5.158  6.084  4.660  4.766      4.766  85935500\n",
      "2  2010-07-01  5.000  5.184  4.054  4.392      4.392  41094000\n",
      "3  2010-07-02  4.600  4.620  3.742  3.840      3.840  25699000\n",
      "4  2010-07-06  4.000  4.000  3.166  3.222      3.222  34334500\n"
     ]
    }
   ],
   "source": [
    "print(data.head())"
   ]
  },
  {
   "cell_type": "code",
   "execution_count": 4,
   "id": "0aa33d24",
   "metadata": {},
   "outputs": [
    {
     "name": "stdout",
     "output_type": "stream",
     "text": [
      "         Date   Open   High    Low  Close  Adj Close    Volume  upDown\n",
      "0  2010-06-29  3.800  5.000  3.508  4.778      4.778  93831500       2\n",
      "1  2010-06-30  5.158  6.084  4.660  4.766      4.766  85935500       2\n",
      "2  2010-07-01  5.000  5.184  4.054  4.392      4.392  41094000       2\n",
      "3  2010-07-02  4.600  4.620  3.742  3.840      3.840  25699000       2\n",
      "4  2010-07-06  4.000  4.000  3.166  3.222      3.222  34334500       2\n"
     ]
    }
   ],
   "source": [
    "data['upDown'] = 2 # 0 : down, 1: up, 2 : same\n",
    "print(data.head())"
   ]
  },
  {
   "cell_type": "code",
   "execution_count": 5,
   "id": "879075dd",
   "metadata": {},
   "outputs": [],
   "source": [
    "for i in range(data.shape[0]) :\n",
    "    num = data.loc[i, 'Close'] - data.loc[i, 'Open']\n",
    "    if num < 0 : data.loc[i, 'upDown'] = 0\n",
    "    elif num > 0 : data.loc[i, 'upDown'] = 1\n",
    "    else : data.loc[i, 'upDown'] = 2"
   ]
  },
  {
   "cell_type": "code",
   "execution_count": 6,
   "id": "97473b1d",
   "metadata": {},
   "outputs": [
    {
     "name": "stdout",
     "output_type": "stream",
     "text": [
      "         Date   Open   High    Low  Close  Adj Close    Volume  upDown\n",
      "0  2010-06-29  3.800  5.000  3.508  4.778      4.778  93831500       1\n",
      "1  2010-06-30  5.158  6.084  4.660  4.766      4.766  85935500       0\n",
      "2  2010-07-01  5.000  5.184  4.054  4.392      4.392  41094000       0\n",
      "3  2010-07-02  4.600  4.620  3.742  3.840      3.840  25699000       0\n",
      "4  2010-07-06  4.000  4.000  3.166  3.222      3.222  34334500       0\n"
     ]
    }
   ],
   "source": [
    "print(data.head())"
   ]
  },
  {
   "cell_type": "code",
   "execution_count": 7,
   "id": "bed16206",
   "metadata": {},
   "outputs": [],
   "source": [
    "data.to_csv('TSLA_addStockComp.csv')"
   ]
  }
 ],
 "metadata": {
  "kernelspec": {
   "display_name": "Python 3 (ipykernel)",
   "language": "python",
   "name": "python3"
  },
  "language_info": {
   "codemirror_mode": {
    "name": "ipython",
    "version": 3
   },
   "file_extension": ".py",
   "mimetype": "text/x-python",
   "name": "python",
   "nbconvert_exporter": "python",
   "pygments_lexer": "ipython3",
   "version": "3.7.11"
  }
 },
 "nbformat": 4,
 "nbformat_minor": 5
}
