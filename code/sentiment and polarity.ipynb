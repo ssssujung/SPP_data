{
 "cells": [
  {
   "cell_type": "code",
   "execution_count": 1,
   "id": "bd0449e2",
   "metadata": {},
   "outputs": [],
   "source": [
    "from sklearn.preprocessing import LabelEncoder\n",
    "from textblob import TextBlob\n",
    "import pandas as pd\n",
    "import numpy as np\n",
    "import re"
   ]
  },
  {
   "cell_type": "code",
   "execution_count": 2,
   "id": "11299105",
   "metadata": {},
   "outputs": [
    {
     "data": {
      "text/html": [
       "<div>\n",
       "<style scoped>\n",
       "    .dataframe tbody tr th:only-of-type {\n",
       "        vertical-align: middle;\n",
       "    }\n",
       "\n",
       "    .dataframe tbody tr th {\n",
       "        vertical-align: top;\n",
       "    }\n",
       "\n",
       "    .dataframe thead th {\n",
       "        text-align: right;\n",
       "    }\n",
       "</style>\n",
       "<table border=\"1\" class=\"dataframe\">\n",
       "  <thead>\n",
       "    <tr style=\"text-align: right;\">\n",
       "      <th></th>\n",
       "      <th>Tweet</th>\n",
       "      <th>UserScreenName</th>\n",
       "      <th>UserName</th>\n",
       "      <th>Timestamp</th>\n",
       "      <th>text</th>\n",
       "      <th>Emojis</th>\n",
       "      <th>Comments</th>\n",
       "      <th>Likes</th>\n",
       "      <th>Retweets</th>\n",
       "      <th>Image link</th>\n",
       "      <th>Tweet URL</th>\n",
       "    </tr>\n",
       "  </thead>\n",
       "  <tbody>\n",
       "    <tr>\n",
       "      <th>0</th>\n",
       "      <td>0</td>\n",
       "      <td>Elon Musk</td>\n",
       "      <td>@elonmusk</td>\n",
       "      <td>2010-06-04T18:31:57.000Z</td>\n",
       "      <td>Please ignore prior tweets, as that was someon...</td>\n",
       "      <td>NaN</td>\n",
       "      <td>873</td>\n",
       "      <td>648</td>\n",
       "      <td>5,453</td>\n",
       "      <td>[]</td>\n",
       "      <td>https://twitter.com/elonmusk/status/15434727182</td>\n",
       "    </tr>\n",
       "    <tr>\n",
       "      <th>1</th>\n",
       "      <td>1</td>\n",
       "      <td>Elon Musk</td>\n",
       "      <td>@elonmusk</td>\n",
       "      <td>2011-12-01T09:55:11.000Z</td>\n",
       "      <td>Went to Iceland on Sat to ride bumper cars on ...</td>\n",
       "      <td>NaN</td>\n",
       "      <td>30</td>\n",
       "      <td>24</td>\n",
       "      <td>188</td>\n",
       "      <td>['https://pbs.twimg.com/media/Afkf5DMCAAEJGFr?...</td>\n",
       "      <td>https://twitter.com/elonmusk/status/1421799282...</td>\n",
       "    </tr>\n",
       "    <tr>\n",
       "      <th>2</th>\n",
       "      <td>2</td>\n",
       "      <td>Elon Musk</td>\n",
       "      <td>@elonmusk</td>\n",
       "      <td>2011-12-01T10:29:04.000Z</td>\n",
       "      <td>I made the volume on the Model S http://ow.ly/...</td>\n",
       "      <td>NaN</td>\n",
       "      <td>29</td>\n",
       "      <td>17</td>\n",
       "      <td>78</td>\n",
       "      <td>[]</td>\n",
       "      <td>https://twitter.com/elonmusk/status/1421884581...</td>\n",
       "    </tr>\n",
       "    <tr>\n",
       "      <th>3</th>\n",
       "      <td>3</td>\n",
       "      <td>Elon Musk</td>\n",
       "      <td>@elonmusk</td>\n",
       "      <td>2011-12-03T08:20:28.000Z</td>\n",
       "      <td>Great Voltaire quote, arguably better than Twa...</td>\n",
       "      <td>NaN</td>\n",
       "      <td>23</td>\n",
       "      <td>30</td>\n",
       "      <td>44</td>\n",
       "      <td>[]</td>\n",
       "      <td>https://twitter.com/elonmusk/status/1428808713...</td>\n",
       "    </tr>\n",
       "    <tr>\n",
       "      <th>4</th>\n",
       "      <td>4</td>\n",
       "      <td>Elon Musk</td>\n",
       "      <td>@elonmusk</td>\n",
       "      <td>2011-12-03T08:22:07.000Z</td>\n",
       "      <td>That was a total non sequitur btw\\n26\\n14\\n50</td>\n",
       "      <td>NaN</td>\n",
       "      <td>26</td>\n",
       "      <td>14</td>\n",
       "      <td>50</td>\n",
       "      <td>[]</td>\n",
       "      <td>https://twitter.com/elonmusk/status/1428812840...</td>\n",
       "    </tr>\n",
       "  </tbody>\n",
       "</table>\n",
       "</div>"
      ],
      "text/plain": [
       "   Tweet UserScreenName   UserName                 Timestamp  \\\n",
       "0      0      Elon Musk  @elonmusk  2010-06-04T18:31:57.000Z   \n",
       "1      1      Elon Musk  @elonmusk  2011-12-01T09:55:11.000Z   \n",
       "2      2      Elon Musk  @elonmusk  2011-12-01T10:29:04.000Z   \n",
       "3      3      Elon Musk  @elonmusk  2011-12-03T08:20:28.000Z   \n",
       "4      4      Elon Musk  @elonmusk  2011-12-03T08:22:07.000Z   \n",
       "\n",
       "                                                text Emojis Comments Likes  \\\n",
       "0  Please ignore prior tweets, as that was someon...    NaN      873   648   \n",
       "1  Went to Iceland on Sat to ride bumper cars on ...    NaN       30    24   \n",
       "2  I made the volume on the Model S http://ow.ly/...    NaN       29    17   \n",
       "3  Great Voltaire quote, arguably better than Twa...    NaN       23    30   \n",
       "4      That was a total non sequitur btw\\n26\\n14\\n50    NaN       26    14   \n",
       "\n",
       "  Retweets                                         Image link  \\\n",
       "0    5,453                                                 []   \n",
       "1      188  ['https://pbs.twimg.com/media/Afkf5DMCAAEJGFr?...   \n",
       "2       78                                                 []   \n",
       "3       44                                                 []   \n",
       "4       50                                                 []   \n",
       "\n",
       "                                           Tweet URL  \n",
       "0    https://twitter.com/elonmusk/status/15434727182  \n",
       "1  https://twitter.com/elonmusk/status/1421799282...  \n",
       "2  https://twitter.com/elonmusk/status/1421884581...  \n",
       "3  https://twitter.com/elonmusk/status/1428808713...  \n",
       "4  https://twitter.com/elonmusk/status/1428812840...  "
      ]
     },
     "execution_count": 2,
     "metadata": {},
     "output_type": "execute_result"
    }
   ],
   "source": [
    "df = pd.read_csv('elonmusk.csv', encoding='UTF-8')\n",
    "df.head()"
   ]
  },
  {
   "cell_type": "code",
   "execution_count": 3,
   "id": "2272e388",
   "metadata": {},
   "outputs": [],
   "source": [
    "df1 = df.drop(['UserScreenName', 'UserName', 'Emojis', 'Comments', 'Likes', 'Image link', 'Tweet URL'], axis = 1)\n",
    "df1.rename(columns={'Tweet':'ID', 'Timestamp':'Time', 'text':'Tweet'}, inplace=True)\n"
   ]
  },
  {
   "cell_type": "code",
   "execution_count": 4,
   "id": "f845e2e8",
   "metadata": {},
   "outputs": [],
   "source": [
    "df1.Tweet = df1.Tweet.astype(str)\n",
    "tweet_lens = []\n",
    "for tweet in df1.Tweet:\n",
    "    tweet_lens.append(len(tweet))"
   ]
  },
  {
   "cell_type": "code",
   "execution_count": 5,
   "id": "667146f5",
   "metadata": {},
   "outputs": [],
   "source": [
    "df_tweet_len = pd.DataFrame(tweet_lens)\n",
    "df_tweet_len.columns = ['Tweet Length']\n",
    "df1 = pd.concat([df1, df_tweet_len], axis=1)"
   ]
  },
  {
   "cell_type": "code",
   "execution_count": 6,
   "id": "85330b97",
   "metadata": {},
   "outputs": [
    {
     "data": {
      "text/html": [
       "<div>\n",
       "<style scoped>\n",
       "    .dataframe tbody tr th:only-of-type {\n",
       "        vertical-align: middle;\n",
       "    }\n",
       "\n",
       "    .dataframe tbody tr th {\n",
       "        vertical-align: top;\n",
       "    }\n",
       "\n",
       "    .dataframe thead th {\n",
       "        text-align: right;\n",
       "    }\n",
       "</style>\n",
       "<table border=\"1\" class=\"dataframe\">\n",
       "  <thead>\n",
       "    <tr style=\"text-align: right;\">\n",
       "      <th></th>\n",
       "      <th>ID</th>\n",
       "      <th>Time</th>\n",
       "      <th>Tweet</th>\n",
       "      <th>Retweets</th>\n",
       "      <th>Tweet Length</th>\n",
       "    </tr>\n",
       "  </thead>\n",
       "  <tbody>\n",
       "    <tr>\n",
       "      <th>0</th>\n",
       "      <td>0</td>\n",
       "      <td>2010-06-04T18:31:57.000Z</td>\n",
       "      <td>Please ignore prior tweets, as that was someon...</td>\n",
       "      <td>5,453</td>\n",
       "      <td>106</td>\n",
       "    </tr>\n",
       "    <tr>\n",
       "      <th>1</th>\n",
       "      <td>1</td>\n",
       "      <td>2011-12-01T09:55:11.000Z</td>\n",
       "      <td>Went to Iceland on Sat to ride bumper cars on ...</td>\n",
       "      <td>188</td>\n",
       "      <td>129</td>\n",
       "    </tr>\n",
       "    <tr>\n",
       "      <th>2</th>\n",
       "      <td>2</td>\n",
       "      <td>2011-12-01T10:29:04.000Z</td>\n",
       "      <td>I made the volume on the Model S http://ow.ly/...</td>\n",
       "      <td>78</td>\n",
       "      <td>125</td>\n",
       "    </tr>\n",
       "    <tr>\n",
       "      <th>3</th>\n",
       "      <td>3</td>\n",
       "      <td>2011-12-03T08:20:28.000Z</td>\n",
       "      <td>Great Voltaire quote, arguably better than Twa...</td>\n",
       "      <td>44</td>\n",
       "      <td>145</td>\n",
       "    </tr>\n",
       "    <tr>\n",
       "      <th>4</th>\n",
       "      <td>4</td>\n",
       "      <td>2011-12-03T08:22:07.000Z</td>\n",
       "      <td>That was a total non sequitur btw\\n26\\n14\\n50</td>\n",
       "      <td>50</td>\n",
       "      <td>42</td>\n",
       "    </tr>\n",
       "  </tbody>\n",
       "</table>\n",
       "</div>"
      ],
      "text/plain": [
       "   ID                      Time  \\\n",
       "0   0  2010-06-04T18:31:57.000Z   \n",
       "1   1  2011-12-01T09:55:11.000Z   \n",
       "2   2  2011-12-01T10:29:04.000Z   \n",
       "3   3  2011-12-03T08:20:28.000Z   \n",
       "4   4  2011-12-03T08:22:07.000Z   \n",
       "\n",
       "                                               Tweet Retweets  Tweet Length  \n",
       "0  Please ignore prior tweets, as that was someon...    5,453           106  \n",
       "1  Went to Iceland on Sat to ride bumper cars on ...      188           129  \n",
       "2  I made the volume on the Model S http://ow.ly/...       78           125  \n",
       "3  Great Voltaire quote, arguably better than Twa...       44           145  \n",
       "4      That was a total non sequitur btw\\n26\\n14\\n50       50            42  "
      ]
     },
     "execution_count": 6,
     "metadata": {},
     "output_type": "execute_result"
    }
   ],
   "source": [
    "df1.head()"
   ]
  },
  {
   "cell_type": "code",
   "execution_count": 7,
   "id": "38a1d8e3",
   "metadata": {},
   "outputs": [],
   "source": [
    "df = df1"
   ]
  },
  {
   "cell_type": "code",
   "execution_count": 8,
   "id": "ac190fd9",
   "metadata": {},
   "outputs": [],
   "source": [
    "df.drop(columns=['ID'], inplace=True)"
   ]
  },
  {
   "cell_type": "code",
   "execution_count": 9,
   "id": "91f3a28a",
   "metadata": {},
   "outputs": [
    {
     "data": {
      "text/html": [
       "<div>\n",
       "<style scoped>\n",
       "    .dataframe tbody tr th:only-of-type {\n",
       "        vertical-align: middle;\n",
       "    }\n",
       "\n",
       "    .dataframe tbody tr th {\n",
       "        vertical-align: top;\n",
       "    }\n",
       "\n",
       "    .dataframe thead th {\n",
       "        text-align: right;\n",
       "    }\n",
       "</style>\n",
       "<table border=\"1\" class=\"dataframe\">\n",
       "  <thead>\n",
       "    <tr style=\"text-align: right;\">\n",
       "      <th></th>\n",
       "      <th>Time</th>\n",
       "      <th>Tweet</th>\n",
       "      <th>Retweets</th>\n",
       "      <th>Tweet Length</th>\n",
       "    </tr>\n",
       "  </thead>\n",
       "  <tbody>\n",
       "    <tr>\n",
       "      <th>0</th>\n",
       "      <td>2010-06-04T18:31:57.000Z</td>\n",
       "      <td>Please ignore prior tweets, as that was someon...</td>\n",
       "      <td>5,453</td>\n",
       "      <td>106</td>\n",
       "    </tr>\n",
       "    <tr>\n",
       "      <th>1</th>\n",
       "      <td>2011-12-01T09:55:11.000Z</td>\n",
       "      <td>Went to Iceland on Sat to ride bumper cars on ...</td>\n",
       "      <td>188</td>\n",
       "      <td>129</td>\n",
       "    </tr>\n",
       "    <tr>\n",
       "      <th>2</th>\n",
       "      <td>2011-12-01T10:29:04.000Z</td>\n",
       "      <td>I made the volume on the Model S http://ow.ly/...</td>\n",
       "      <td>78</td>\n",
       "      <td>125</td>\n",
       "    </tr>\n",
       "    <tr>\n",
       "      <th>3</th>\n",
       "      <td>2011-12-03T08:20:28.000Z</td>\n",
       "      <td>Great Voltaire quote, arguably better than Twa...</td>\n",
       "      <td>44</td>\n",
       "      <td>145</td>\n",
       "    </tr>\n",
       "    <tr>\n",
       "      <th>4</th>\n",
       "      <td>2011-12-03T08:22:07.000Z</td>\n",
       "      <td>That was a total non sequitur btw\\n26\\n14\\n50</td>\n",
       "      <td>50</td>\n",
       "      <td>42</td>\n",
       "    </tr>\n",
       "  </tbody>\n",
       "</table>\n",
       "</div>"
      ],
      "text/plain": [
       "                       Time  \\\n",
       "0  2010-06-04T18:31:57.000Z   \n",
       "1  2011-12-01T09:55:11.000Z   \n",
       "2  2011-12-01T10:29:04.000Z   \n",
       "3  2011-12-03T08:20:28.000Z   \n",
       "4  2011-12-03T08:22:07.000Z   \n",
       "\n",
       "                                               Tweet Retweets  Tweet Length  \n",
       "0  Please ignore prior tweets, as that was someon...    5,453           106  \n",
       "1  Went to Iceland on Sat to ride bumper cars on ...      188           129  \n",
       "2  I made the volume on the Model S http://ow.ly/...       78           125  \n",
       "3  Great Voltaire quote, arguably better than Twa...       44           145  \n",
       "4      That was a total non sequitur btw\\n26\\n14\\n50       50            42  "
      ]
     },
     "execution_count": 9,
     "metadata": {},
     "output_type": "execute_result"
    }
   ],
   "source": [
    "df.head()"
   ]
  },
  {
   "cell_type": "code",
   "execution_count": 11,
   "id": "017ec240",
   "metadata": {},
   "outputs": [],
   "source": [
    "df = df[['Time', 'Tweet', 'Retweets', 'Tweet Length']]"
   ]
  },
  {
   "cell_type": "code",
   "execution_count": 12,
   "id": "76110cbd",
   "metadata": {},
   "outputs": [
    {
     "data": {
      "text/html": [
       "<div>\n",
       "<style scoped>\n",
       "    .dataframe tbody tr th:only-of-type {\n",
       "        vertical-align: middle;\n",
       "    }\n",
       "\n",
       "    .dataframe tbody tr th {\n",
       "        vertical-align: top;\n",
       "    }\n",
       "\n",
       "    .dataframe thead th {\n",
       "        text-align: right;\n",
       "    }\n",
       "</style>\n",
       "<table border=\"1\" class=\"dataframe\">\n",
       "  <thead>\n",
       "    <tr style=\"text-align: right;\">\n",
       "      <th></th>\n",
       "      <th>Time</th>\n",
       "      <th>Tweet</th>\n",
       "      <th>Retweets</th>\n",
       "      <th>Tweet Length</th>\n",
       "    </tr>\n",
       "  </thead>\n",
       "  <tbody>\n",
       "    <tr>\n",
       "      <th>0</th>\n",
       "      <td>2010-06-04T18:31:57.000Z</td>\n",
       "      <td>Please ignore prior tweets, as that was someon...</td>\n",
       "      <td>5,453</td>\n",
       "      <td>106</td>\n",
       "    </tr>\n",
       "    <tr>\n",
       "      <th>1</th>\n",
       "      <td>2011-12-01T09:55:11.000Z</td>\n",
       "      <td>Went to Iceland on Sat to ride bumper cars on ...</td>\n",
       "      <td>188</td>\n",
       "      <td>129</td>\n",
       "    </tr>\n",
       "    <tr>\n",
       "      <th>2</th>\n",
       "      <td>2011-12-01T10:29:04.000Z</td>\n",
       "      <td>I made the volume on the Model S http://ow.ly/...</td>\n",
       "      <td>78</td>\n",
       "      <td>125</td>\n",
       "    </tr>\n",
       "    <tr>\n",
       "      <th>3</th>\n",
       "      <td>2011-12-03T08:20:28.000Z</td>\n",
       "      <td>Great Voltaire quote, arguably better than Twa...</td>\n",
       "      <td>44</td>\n",
       "      <td>145</td>\n",
       "    </tr>\n",
       "    <tr>\n",
       "      <th>4</th>\n",
       "      <td>2011-12-03T08:22:07.000Z</td>\n",
       "      <td>That was a total non sequitur btw\\n26\\n14\\n50</td>\n",
       "      <td>50</td>\n",
       "      <td>42</td>\n",
       "    </tr>\n",
       "  </tbody>\n",
       "</table>\n",
       "</div>"
      ],
      "text/plain": [
       "                       Time  \\\n",
       "0  2010-06-04T18:31:57.000Z   \n",
       "1  2011-12-01T09:55:11.000Z   \n",
       "2  2011-12-01T10:29:04.000Z   \n",
       "3  2011-12-03T08:20:28.000Z   \n",
       "4  2011-12-03T08:22:07.000Z   \n",
       "\n",
       "                                               Tweet Retweets  Tweet Length  \n",
       "0  Please ignore prior tweets, as that was someon...    5,453           106  \n",
       "1  Went to Iceland on Sat to ride bumper cars on ...      188           129  \n",
       "2  I made the volume on the Model S http://ow.ly/...       78           125  \n",
       "3  Great Voltaire quote, arguably better than Twa...       44           145  \n",
       "4      That was a total non sequitur btw\\n26\\n14\\n50       50            42  "
      ]
     },
     "execution_count": 12,
     "metadata": {},
     "output_type": "execute_result"
    }
   ],
   "source": [
    "df.head()"
   ]
  },
  {
   "cell_type": "code",
   "execution_count": 13,
   "id": "2a91631e",
   "metadata": {},
   "outputs": [
    {
     "data": {
      "text/plain": [
       "dtype('O')"
      ]
     },
     "execution_count": 13,
     "metadata": {},
     "output_type": "execute_result"
    }
   ],
   "source": [
    "df.Time.dtypes"
   ]
  },
  {
   "cell_type": "code",
   "execution_count": 14,
   "id": "16633ae9",
   "metadata": {},
   "outputs": [],
   "source": [
    "df['Time'] = pd.to_datetime(df['Time'])"
   ]
  },
  {
   "cell_type": "code",
   "execution_count": 15,
   "id": "4a7e866b",
   "metadata": {},
   "outputs": [
    {
     "data": {
      "text/html": [
       "<div>\n",
       "<style scoped>\n",
       "    .dataframe tbody tr th:only-of-type {\n",
       "        vertical-align: middle;\n",
       "    }\n",
       "\n",
       "    .dataframe tbody tr th {\n",
       "        vertical-align: top;\n",
       "    }\n",
       "\n",
       "    .dataframe thead th {\n",
       "        text-align: right;\n",
       "    }\n",
       "</style>\n",
       "<table border=\"1\" class=\"dataframe\">\n",
       "  <thead>\n",
       "    <tr style=\"text-align: right;\">\n",
       "      <th></th>\n",
       "      <th>Time</th>\n",
       "      <th>Tweet</th>\n",
       "      <th>Retweets</th>\n",
       "      <th>Tweet Length</th>\n",
       "    </tr>\n",
       "  </thead>\n",
       "  <tbody>\n",
       "    <tr>\n",
       "      <th>0</th>\n",
       "      <td>2010-06-04 18:31:57+00:00</td>\n",
       "      <td>Please ignore prior tweets, as that was someon...</td>\n",
       "      <td>5,453</td>\n",
       "      <td>106</td>\n",
       "    </tr>\n",
       "    <tr>\n",
       "      <th>1</th>\n",
       "      <td>2011-12-01 09:55:11+00:00</td>\n",
       "      <td>Went to Iceland on Sat to ride bumper cars on ...</td>\n",
       "      <td>188</td>\n",
       "      <td>129</td>\n",
       "    </tr>\n",
       "    <tr>\n",
       "      <th>2</th>\n",
       "      <td>2011-12-01 10:29:04+00:00</td>\n",
       "      <td>I made the volume on the Model S http://ow.ly/...</td>\n",
       "      <td>78</td>\n",
       "      <td>125</td>\n",
       "    </tr>\n",
       "    <tr>\n",
       "      <th>3</th>\n",
       "      <td>2011-12-03 08:20:28+00:00</td>\n",
       "      <td>Great Voltaire quote, arguably better than Twa...</td>\n",
       "      <td>44</td>\n",
       "      <td>145</td>\n",
       "    </tr>\n",
       "    <tr>\n",
       "      <th>4</th>\n",
       "      <td>2011-12-03 08:22:07+00:00</td>\n",
       "      <td>That was a total non sequitur btw\\n26\\n14\\n50</td>\n",
       "      <td>50</td>\n",
       "      <td>42</td>\n",
       "    </tr>\n",
       "  </tbody>\n",
       "</table>\n",
       "</div>"
      ],
      "text/plain": [
       "                       Time  \\\n",
       "0 2010-06-04 18:31:57+00:00   \n",
       "1 2011-12-01 09:55:11+00:00   \n",
       "2 2011-12-01 10:29:04+00:00   \n",
       "3 2011-12-03 08:20:28+00:00   \n",
       "4 2011-12-03 08:22:07+00:00   \n",
       "\n",
       "                                               Tweet Retweets  Tweet Length  \n",
       "0  Please ignore prior tweets, as that was someon...    5,453           106  \n",
       "1  Went to Iceland on Sat to ride bumper cars on ...      188           129  \n",
       "2  I made the volume on the Model S http://ow.ly/...       78           125  \n",
       "3  Great Voltaire quote, arguably better than Twa...       44           145  \n",
       "4      That was a total non sequitur btw\\n26\\n14\\n50       50            42  "
      ]
     },
     "execution_count": 15,
     "metadata": {},
     "output_type": "execute_result"
    }
   ],
   "source": [
    "df.head()"
   ]
  },
  {
   "cell_type": "code",
   "execution_count": 16,
   "id": "d9d540ad",
   "metadata": {},
   "outputs": [
    {
     "name": "stdout",
     "output_type": "stream",
     "text": [
      "<class 'pandas.core.frame.DataFrame'>\n",
      "RangeIndex: 12206 entries, 0 to 12205\n",
      "Data columns (total 4 columns):\n",
      " #   Column        Non-Null Count  Dtype              \n",
      "---  ------        --------------  -----              \n",
      " 0   Time          12206 non-null  datetime64[ns, UTC]\n",
      " 1   Tweet         12206 non-null  object             \n",
      " 2   Retweets      12206 non-null  object             \n",
      " 3   Tweet Length  12206 non-null  int64              \n",
      "dtypes: datetime64[ns, UTC](1), int64(1), object(2)\n",
      "memory usage: 381.6+ KB\n"
     ]
    }
   ],
   "source": [
    "df.info()"
   ]
  },
  {
   "cell_type": "code",
   "execution_count": 17,
   "id": "590e6433",
   "metadata": {},
   "outputs": [],
   "source": [
    "xxx = df.Tweet[0]"
   ]
  },
  {
   "cell_type": "code",
   "execution_count": 18,
   "id": "f56a4d9f",
   "metadata": {},
   "outputs": [
    {
     "data": {
      "text/plain": [
       "'Please ignore prior tweets, as that was someone pretending to be me :)  This is actually me.\\n873\\n648\\n5,453'"
      ]
     },
     "execution_count": 18,
     "metadata": {},
     "output_type": "execute_result"
    }
   ],
   "source": [
    "xxx"
   ]
  },
  {
   "cell_type": "code",
   "execution_count": 19,
   "id": "d5a1ea60",
   "metadata": {},
   "outputs": [],
   "source": [
    "tweet_list = df.Tweet.tolist()"
   ]
  },
  {
   "cell_type": "code",
   "execution_count": 20,
   "id": "26e12610",
   "metadata": {},
   "outputs": [
    {
     "data": {
      "text/plain": [
       "'Please ignore prior tweets, as that was someone pretending to be me :)  This is actually me.\\n873\\n648\\n5,453'"
      ]
     },
     "execution_count": 20,
     "metadata": {},
     "output_type": "execute_result"
    }
   ],
   "source": [
    "tweet_list[0]"
   ]
  },
  {
   "cell_type": "code",
   "execution_count": 21,
   "id": "f386595b",
   "metadata": {},
   "outputs": [],
   "source": [
    "def clean_tweet_http(dirty_string):\n",
    "    sep = \"https://\" \n",
    "    if sep in dirty_string:\n",
    "        clean = dirty_string.split(sep, 1)[0]\n",
    "    else:\n",
    "        clean = dirty_string\n",
    "    return clean"
   ]
  },
  {
   "cell_type": "code",
   "execution_count": 22,
   "id": "3e63ce59",
   "metadata": {},
   "outputs": [],
   "source": [
    "clean_tweets1 = []\n",
    "\n",
    "for i in range(0, len(tweet_list)):\n",
    "    x = clean_tweet_http(tweet_list[i])\n",
    "    clean_tweets1.append(x)"
   ]
  },
  {
   "cell_type": "code",
   "execution_count": 23,
   "id": "0fbd1047",
   "metadata": {},
   "outputs": [
    {
     "data": {
      "text/plain": [
       "['Please ignore prior tweets, as that was someone pretending to be me :)  This is actually me.\\n873\\n648\\n5,453',\n",
       " \"Went to Iceland on Sat to ride bumper cars on ice!  No, not the country, Vlad's rink in Van Nuys. Awesome family fun :)\\n30\\n24\\n188\",\n",
       " 'I made the volume on the Model S http://ow.ly/i/mtD7 go to 11.  Now I just need to work in a miniature Stonehenge...\\n29\\n17\\n78',\n",
       " 'Great Voltaire quote, arguably better than Twain. Hearing news of his own death, Voltaire replied the reports were true, only premature.\\n23\\n30\\n44',\n",
       " 'That was a total non sequitur btw\\n26\\n14\\n50',\n",
       " 'Am reading a great biography of Ben Franklin by Isaacson. Highly recommended.\\n18\\n18\\n80',\n",
       " 'Got called randomly by Kanye West today and received a download of his thoughts, ranging from shoes to Moses. He was polite, but opaque.\\n30\\n675\\n1,682',\n",
       " 'Model S options are out! Performance in red and black for me.  I will deliver my car in June/July.\\n49\\n88\\n697',\n",
       " 'Yum! Even better than deep fried butter: http://ow.ly/877EB\\n23\\n24\\n165',\n",
       " \"Hi, I'm Art Garfunkel. Have you heard the sound of silence? Because, you know, it makes a sound...\\n86\\n211\\n941\"]"
      ]
     },
     "execution_count": 23,
     "metadata": {},
     "output_type": "execute_result"
    }
   ],
   "source": [
    "clean_tweets1[:10]"
   ]
  },
  {
   "cell_type": "code",
   "execution_count": 24,
   "id": "0f5ce791",
   "metadata": {},
   "outputs": [
    {
     "data": {
      "text/plain": [
       "\"Went to Iceland on Sat to ride bumper cars on ice!  No, not the country, Vlad's rink in Van Nuys. Awesome family fun :)\\n30\\n24\\n188\""
      ]
     },
     "execution_count": 24,
     "metadata": {},
     "output_type": "execute_result"
    }
   ],
   "source": [
    "xxx = clean_tweets1[1]\n",
    "\n",
    "result = re.sub('RT @([A-Za-z0-9_]+\\:) ', '', xxx)\n",
    "result\n"
   ]
  },
  {
   "cell_type": "code",
   "execution_count": 25,
   "id": "d76092fc",
   "metadata": {},
   "outputs": [
    {
     "data": {
      "text/plain": [
       "\"Went to Iceland on Sat to ride bumper cars on ice!  No, not the country, Vlad's rink in Van Nuys. Awesome family fun :)\\n30\\n24\\n188\""
      ]
     },
     "execution_count": 25,
     "metadata": {},
     "output_type": "execute_result"
    }
   ],
   "source": [
    "result = re.sub('@([A-Za-z0-9_]+) ', '', xxx)\n",
    "result"
   ]
  },
  {
   "cell_type": "code",
   "execution_count": 26,
   "id": "eaeba38d",
   "metadata": {},
   "outputs": [],
   "source": [
    "def clean_tweet_usernames(dirty_string):\n",
    "    sep = \"https://\" \n",
    "    if sep in dirty_string:\n",
    "        clean = dirty_string.split(sep, 1)[0]\n",
    "    else:\n",
    "        clean = dirty_string\n",
    "    return clean"
   ]
  },
  {
   "cell_type": "code",
   "execution_count": 27,
   "id": "0e9ce86d",
   "metadata": {},
   "outputs": [],
   "source": [
    "clean_tweets2 = []\n",
    "\n",
    "for i in range(0, len(clean_tweets1)):\n",
    "    for tweet in clean_tweets1:\n",
    "        result = re.sub('@([A-Za-z0-9_]+) ', '', tweet)\n",
    "        clean_tweets2.append(result)"
   ]
  },
  {
   "cell_type": "code",
   "execution_count": 28,
   "id": "67c7373b",
   "metadata": {},
   "outputs": [
    {
     "data": {
      "text/plain": [
       "['Please ignore prior tweets, as that was someone pretending to be me :)  This is actually me.\\n873\\n648\\n5,453',\n",
       " \"Went to Iceland on Sat to ride bumper cars on ice!  No, not the country, Vlad's rink in Van Nuys. Awesome family fun :)\\n30\\n24\\n188\",\n",
       " 'I made the volume on the Model S http://ow.ly/i/mtD7 go to 11.  Now I just need to work in a miniature Stonehenge...\\n29\\n17\\n78',\n",
       " 'Great Voltaire quote, arguably better than Twain. Hearing news of his own death, Voltaire replied the reports were true, only premature.\\n23\\n30\\n44',\n",
       " 'That was a total non sequitur btw\\n26\\n14\\n50',\n",
       " 'Am reading a great biography of Ben Franklin by Isaacson. Highly recommended.\\n18\\n18\\n80',\n",
       " 'Got called randomly by Kanye West today and received a download of his thoughts, ranging from shoes to Moses. He was polite, but opaque.\\n30\\n675\\n1,682',\n",
       " 'Model S options are out! Performance in red and black for me.  I will deliver my car in June/July.\\n49\\n88\\n697',\n",
       " 'Yum! Even better than deep fried butter: http://ow.ly/877EB\\n23\\n24\\n165',\n",
       " \"Hi, I'm Art Garfunkel. Have you heard the sound of silence? Because, you know, it makes a sound...\\n86\\n211\\n941\"]"
      ]
     },
     "execution_count": 28,
     "metadata": {},
     "output_type": "execute_result"
    }
   ],
   "source": [
    "clean_tweets2[:10]"
   ]
  },
  {
   "cell_type": "code",
   "execution_count": 30,
   "id": "aefc22a1",
   "metadata": {},
   "outputs": [
    {
     "ename": "MemoryError",
     "evalue": "",
     "output_type": "error",
     "traceback": [
      "\u001b[1;31m---------------------------------------------------------------------------\u001b[0m",
      "\u001b[1;31mMemoryError\u001b[0m                               Traceback (most recent call last)",
      "Input \u001b[1;32mIn [30]\u001b[0m, in \u001b[0;36m<cell line: 3>\u001b[1;34m()\u001b[0m\n\u001b[0;32m      4\u001b[0m \u001b[38;5;28;01mfor\u001b[39;00m tweet \u001b[38;5;129;01min\u001b[39;00m clean_tweets2:\n\u001b[0;32m      5\u001b[0m     result \u001b[38;5;241m=\u001b[39m re\u001b[38;5;241m.\u001b[39msub(\u001b[38;5;124m'\u001b[39m\u001b[38;5;124mRT @([A-Za-z0-9_]+\u001b[39m\u001b[38;5;124m\\\u001b[39m\u001b[38;5;124m:) \u001b[39m\u001b[38;5;124m'\u001b[39m, \u001b[38;5;124m'\u001b[39m\u001b[38;5;124m'\u001b[39m, tweet)\n\u001b[1;32m----> 6\u001b[0m     \u001b[43mclean_tweets3\u001b[49m\u001b[38;5;241;43m.\u001b[39;49m\u001b[43mappend\u001b[49m\u001b[43m(\u001b[49m\u001b[43mresult\u001b[49m\u001b[43m)\u001b[49m\n",
      "\u001b[1;31mMemoryError\u001b[0m: "
     ]
    }
   ],
   "source": [
    "clean_tweets3 = []\n",
    "\n",
    "for i in range(0, len(clean_tweets1)):\n",
    "    for tweet in clean_tweets2:\n",
    "        result = re.sub('RT @([A-Za-z0-9_]+\\:) ', '', tweet)\n",
    "        clean_tweets3.append(result)"
   ]
  },
  {
   "cell_type": "code",
   "execution_count": null,
   "id": "0ef55d5d",
   "metadata": {},
   "outputs": [],
   "source": [
    "zzz = clean_tweets3[7]\n",
    "\n",
    "result = re.sub('\\n', ' ', zzz)\n",
    "result"
   ]
  },
  {
   "cell_type": "code",
   "execution_count": null,
   "id": "d88893f6",
   "metadata": {},
   "outputs": [],
   "source": [
    "clean_tweets4 = []\n",
    "\n",
    "for tweet in clean_tweets3:\n",
    "    result = re.sub('\\n', ' ', tweet)\n",
    "    clean_tweets4.append(result)"
   ]
  },
  {
   "cell_type": "code",
   "execution_count": null,
   "id": "381c2434",
   "metadata": {},
   "outputs": [],
   "source": [
    "clean_tweets4[:25] "
   ]
  },
  {
   "cell_type": "code",
   "execution_count": null,
   "id": "2e03c4a1",
   "metadata": {},
   "outputs": [],
   "source": [
    "clean_tweets5 = []\n",
    "\n",
    "for tweet in clean_tweets4:\n",
    "    result = re.sub(' https:?', '', tweet)\n",
    "    clean_tweets5.append(result)"
   ]
  },
  {
   "cell_type": "code",
   "execution_count": null,
   "id": "80c62a2f",
   "metadata": {},
   "outputs": [],
   "source": [
    "aaa = clean_tweets5[15]\n",
    "result = re.sub('@([A-Za-z0-9_]+)', '', aaa)\n",
    "result"
   ]
  },
  {
   "cell_type": "code",
   "execution_count": null,
   "id": "d6223e49",
   "metadata": {},
   "outputs": [],
   "source": [
    "clean_tweets6 = []\n",
    "\n",
    "for tweet in clean_tweets5:\n",
    "    result = re.sub('@([A-Za-z0-9_]+)', '', tweet)\n",
    "    clean_tweets6.append(result)"
   ]
  },
  {
   "cell_type": "code",
   "execution_count": null,
   "id": "fb9571b4",
   "metadata": {},
   "outputs": [],
   "source": [
    "qqq = clean_tweets6[13]\n",
    "result = re.sub('\\s([#][\\w_-]+)', '', qqq)\n",
    "result"
   ]
  },
  {
   "cell_type": "code",
   "execution_count": null,
   "id": "0b2a3366",
   "metadata": {},
   "outputs": [],
   "source": [
    "clean_tweets7 = []\n",
    "\n",
    "for tweet in clean_tweets6:\n",
    "    result = re.sub('\\s([#][\\w_-]+)', '', tweet)\n",
    "    clean_tweets7.append(result)"
   ]
  },
  {
   "cell_type": "code",
   "execution_count": null,
   "id": "d6d24d67",
   "metadata": {},
   "outputs": [],
   "source": [
    "clean_tweets8 = []\n",
    "\n",
    "for tweet in clean_tweets7:\n",
    "    result = re.sub('([#][\\w_-]+)', '', tweet)\n",
    "    clean_tweets8.append(result)"
   ]
  },
  {
   "cell_type": "code",
   "execution_count": null,
   "id": "22dfd526",
   "metadata": {},
   "outputs": [],
   "source": [
    "clean_tweets8[:10]"
   ]
  },
  {
   "cell_type": "code",
   "execution_count": null,
   "id": "5ce53274",
   "metadata": {},
   "outputs": [],
   "source": [
    "def clean_tweet(tweet):\n",
    "    return ' '.join(re.sub(\"(@[A-Za-z0-9]+)|([^0-9A-Za-z \\t])|(\\w+:\\/\\/\\S+)\", \" \", tweet).split())"
   ]
  },
  {
   "cell_type": "code",
   "execution_count": null,
   "id": "e187d029",
   "metadata": {},
   "outputs": [],
   "source": [
    "result"
   ]
  },
  {
   "cell_type": "code",
   "execution_count": null,
   "id": "9f463f5f",
   "metadata": {},
   "outputs": [],
   "source": [
    "x1 = clean_tweet(result.lower())"
   ]
  },
  {
   "cell_type": "code",
   "execution_count": null,
   "id": "4cd2af3a",
   "metadata": {},
   "outputs": [],
   "source": [
    "def get_tweet_sentiment(tweet):\n",
    "    \n",
    "    analysis = TextBlob(clean_tweet(tweet.lower())) \n",
    "    if analysis.sentiment.polarity > 0: \n",
    "        return 'positive', analysis.sentiment.polarity\n",
    "    elif analysis.sentiment.polarity == 0: \n",
    "        return 'neutral', analysis.sentiment.polarity\n",
    "    else: \n",
    "        return 'negative', analysis.sentiment.polarity"
   ]
  },
  {
   "cell_type": "code",
   "execution_count": null,
   "id": "94660b6f",
   "metadata": {},
   "outputs": [],
   "source": [
    "get_tweet_sentiment(result)"
   ]
  },
  {
   "cell_type": "code",
   "execution_count": null,
   "id": "3e24f1be",
   "metadata": {},
   "outputs": [],
   "source": [
    "clean_tweets8"
   ]
  },
  {
   "cell_type": "code",
   "execution_count": null,
   "id": "7c140e59",
   "metadata": {},
   "outputs": [],
   "source": [
    "listy = []\n",
    "for t in clean_tweets8:\n",
    "    listy.append(get_tweet_sentiment(t))"
   ]
  },
  {
   "cell_type": "code",
   "execution_count": null,
   "id": "bbf6e3b9",
   "metadata": {},
   "outputs": [],
   "source": [
    "len(listy)"
   ]
  },
  {
   "cell_type": "code",
   "execution_count": null,
   "id": "895bc9d2",
   "metadata": {},
   "outputs": [],
   "source": []
  }
 ],
 "metadata": {
  "kernelspec": {
   "display_name": "Python 3 (ipykernel)",
   "language": "python",
   "name": "python3"
  },
  "language_info": {
   "codemirror_mode": {
    "name": "ipython",
    "version": 3
   },
   "file_extension": ".py",
   "mimetype": "text/x-python",
   "name": "python",
   "nbconvert_exporter": "python",
   "pygments_lexer": "ipython3",
   "version": "3.9.12"
  }
 },
 "nbformat": 4,
 "nbformat_minor": 5
}
