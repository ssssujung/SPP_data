{
 "cells": [
  {
   "cell_type": "code",
   "execution_count": 2,
   "id": "5ee0fc38",
   "metadata": {},
   "outputs": [],
   "source": [
    "from sklearn.ensemble import RandomForestClassifier\n",
    "from sklearn.svm import SVC\n",
    "from sklearn.linear_model import LogisticRegression\n",
    "from sklearn.pipeline import Pipeline\n",
    "from sklearn.model_selection import cross_val_score\n",
    "from sklearn.preprocessing import StandardScaler\n",
    "from sklearn.model_selection import train_test_split\n",
    "import keras\n",
    "from keras_preprocessing.sequence import pad_sequences\n",
    "from keras.layers import Input, Dense, LSTM, Embedding, Conv1D, MaxPooling1D\n",
    "from keras.layers import Dropout, Activation, Bidirectional, GlobalMaxPool1D\n",
    "from keras.models import Model\n",
    "from keras.models import Sequential\n",
    "from keras.layers import Dense\n",
    "from keras import initializers, regularizers, constraints, optimizers, layers\n",
    "from keras.preprocessing import text, sequence\n",
    "from keras.preprocessing.text import Tokenizer\n",
    "import pandas as pd\n",
    "import numpy as np\n",
    "np.random.seed(0)\n",
    "from nltk import word_tokenize\n",
    "from gensim.models import word2vec\n",
    "import talos as ta\n",
    "from keras.layers import Dropout\n",
    "from talos.model.early_stopper import early_stopper\n",
    "from talos.model.normalizers import lr_normalizer\n",
    "from sklearn.metrics import accuracy_score,confusion_matrix,classification_report\n",
    "import seaborn as sns\n",
    "import matplotlib.pyplot as plt\n",
    "\n"
   ]
  },
  {
   "cell_type": "code",
   "execution_count": 3,
   "id": "2fd4fe81",
   "metadata": {},
   "outputs": [],
   "source": [
    "%matplotlib inline"
   ]
  },
  {
   "cell_type": "code",
   "execution_count": 5,
   "id": "b909e3b5",
   "metadata": {
    "scrolled": true
   },
   "outputs": [
    {
     "data": {
      "text/html": [
       "<div>\n",
       "<style scoped>\n",
       "    .dataframe tbody tr th:only-of-type {\n",
       "        vertical-align: middle;\n",
       "    }\n",
       "\n",
       "    .dataframe tbody tr th {\n",
       "        vertical-align: top;\n",
       "    }\n",
       "\n",
       "    .dataframe thead th {\n",
       "        text-align: right;\n",
       "    }\n",
       "</style>\n",
       "<table border=\"1\" class=\"dataframe\">\n",
       "  <thead>\n",
       "    <tr style=\"text-align: right;\">\n",
       "      <th></th>\n",
       "      <th>Unnamed: 0</th>\n",
       "      <th>ID</th>\n",
       "      <th>Date</th>\n",
       "      <th>Tweet</th>\n",
       "      <th>Retweets</th>\n",
       "      <th>Tweet Length</th>\n",
       "      <th>Sentiment</th>\n",
       "      <th>Polarity</th>\n",
       "    </tr>\n",
       "  </thead>\n",
       "  <tbody>\n",
       "    <tr>\n",
       "      <th>0</th>\n",
       "      <td>0</td>\n",
       "      <td>0</td>\n",
       "      <td>2010-06-05</td>\n",
       "      <td>Please ignore prior tweets as that was someone...</td>\n",
       "      <td>5,453</td>\n",
       "      <td>106</td>\n",
       "      <td>0</td>\n",
       "      <td>0.00</td>\n",
       "    </tr>\n",
       "    <tr>\n",
       "      <th>1</th>\n",
       "      <td>1</td>\n",
       "      <td>1</td>\n",
       "      <td>2011-12-01</td>\n",
       "      <td>Went to Iceland on Sat to ride bumper cars on ...</td>\n",
       "      <td>188</td>\n",
       "      <td>129</td>\n",
       "      <td>1</td>\n",
       "      <td>0.65</td>\n",
       "    </tr>\n",
       "    <tr>\n",
       "      <th>2</th>\n",
       "      <td>2</td>\n",
       "      <td>2</td>\n",
       "      <td>2011-12-01</td>\n",
       "      <td>I made the volume on the Model S</td>\n",
       "      <td>78</td>\n",
       "      <td>125</td>\n",
       "      <td>0</td>\n",
       "      <td>0.00</td>\n",
       "    </tr>\n",
       "    <tr>\n",
       "      <th>3</th>\n",
       "      <td>3</td>\n",
       "      <td>3</td>\n",
       "      <td>2011-12-03</td>\n",
       "      <td>Great Voltaire quote arguably better than Twai...</td>\n",
       "      <td>44</td>\n",
       "      <td>145</td>\n",
       "      <td>1</td>\n",
       "      <td>0.45</td>\n",
       "    </tr>\n",
       "    <tr>\n",
       "      <th>4</th>\n",
       "      <td>4</td>\n",
       "      <td>4</td>\n",
       "      <td>2011-12-03</td>\n",
       "      <td>That was a total non sequitur btw</td>\n",
       "      <td>50</td>\n",
       "      <td>42</td>\n",
       "      <td>0</td>\n",
       "      <td>0.00</td>\n",
       "    </tr>\n",
       "  </tbody>\n",
       "</table>\n",
       "</div>"
      ],
      "text/plain": [
       "   Unnamed: 0  ID        Date  \\\n",
       "0           0   0  2010-06-05   \n",
       "1           1   1  2011-12-01   \n",
       "2           2   2  2011-12-01   \n",
       "3           3   3  2011-12-03   \n",
       "4           4   4  2011-12-03   \n",
       "\n",
       "                                               Tweet Retweets  Tweet Length  \\\n",
       "0  Please ignore prior tweets as that was someone...    5,453           106   \n",
       "1  Went to Iceland on Sat to ride bumper cars on ...      188           129   \n",
       "2                  I made the volume on the Model S        78           125   \n",
       "3  Great Voltaire quote arguably better than Twai...       44           145   \n",
       "4                  That was a total non sequitur btw       50            42   \n",
       "\n",
       "   Sentiment  Polarity  \n",
       "0          0      0.00  \n",
       "1          1      0.65  \n",
       "2          0      0.00  \n",
       "3          1      0.45  \n",
       "4          0      0.00  "
      ]
     },
     "execution_count": 5,
     "metadata": {},
     "output_type": "execute_result"
    }
   ],
   "source": [
    "df = pd.read_csv('base_elon_data.csv')\n",
    "\n",
    "df.head()"
   ]
  },
  {
   "cell_type": "code",
   "execution_count": 10,
   "id": "a745d6bc",
   "metadata": {},
   "outputs": [],
   "source": [
    "df_pca = pd.read_csv('updated_target_merged_pca_data.csv')"
   ]
  },
  {
   "cell_type": "code",
   "execution_count": 13,
   "id": "11e52152",
   "metadata": {
    "scrolled": true
   },
   "outputs": [
    {
     "data": {
      "text/html": [
       "<div>\n",
       "<style scoped>\n",
       "    .dataframe tbody tr th:only-of-type {\n",
       "        vertical-align: middle;\n",
       "    }\n",
       "\n",
       "    .dataframe tbody tr th {\n",
       "        vertical-align: top;\n",
       "    }\n",
       "\n",
       "    .dataframe thead th {\n",
       "        text-align: right;\n",
       "    }\n",
       "</style>\n",
       "<table border=\"1\" class=\"dataframe\">\n",
       "  <thead>\n",
       "    <tr style=\"text-align: right;\">\n",
       "      <th></th>\n",
       "      <th>Unnamed: 0</th>\n",
       "      <th>pc_1</th>\n",
       "      <th>pc_2</th>\n",
       "      <th>pc_3</th>\n",
       "      <th>pc_4</th>\n",
       "      <th>pc_5</th>\n",
       "      <th>pc_6</th>\n",
       "      <th>pc_7</th>\n",
       "      <th>pc_8</th>\n",
       "      <th>pc_9</th>\n",
       "      <th>...</th>\n",
       "      <th>pc_6542</th>\n",
       "      <th>pc_6543</th>\n",
       "      <th>pc_6544</th>\n",
       "      <th>pc_6545</th>\n",
       "      <th>pc_6546</th>\n",
       "      <th>pc_6547</th>\n",
       "      <th>pc_6548</th>\n",
       "      <th>pc_6549</th>\n",
       "      <th>pc_6550</th>\n",
       "      <th>pc_6551</th>\n",
       "    </tr>\n",
       "  </thead>\n",
       "  <tbody>\n",
       "    <tr>\n",
       "      <th>0</th>\n",
       "      <td>0</td>\n",
       "      <td>-0.105592</td>\n",
       "      <td>-0.029830</td>\n",
       "      <td>-0.083962</td>\n",
       "      <td>0.082105</td>\n",
       "      <td>0.017019</td>\n",
       "      <td>0.134082</td>\n",
       "      <td>-0.072522</td>\n",
       "      <td>-0.006849</td>\n",
       "      <td>-0.068842</td>\n",
       "      <td>...</td>\n",
       "      <td>-4.571805e-16</td>\n",
       "      <td>9.392261e-17</td>\n",
       "      <td>-5.865131e-17</td>\n",
       "      <td>1.153722e-17</td>\n",
       "      <td>-1.133192e-17</td>\n",
       "      <td>6.973199e-19</td>\n",
       "      <td>1.421004e-18</td>\n",
       "      <td>7.973121e-18</td>\n",
       "      <td>2.735286e-17</td>\n",
       "      <td>2.367685e-17</td>\n",
       "    </tr>\n",
       "    <tr>\n",
       "      <th>1</th>\n",
       "      <td>1</td>\n",
       "      <td>-0.099076</td>\n",
       "      <td>-0.021082</td>\n",
       "      <td>-0.038139</td>\n",
       "      <td>0.000626</td>\n",
       "      <td>0.003329</td>\n",
       "      <td>-0.062547</td>\n",
       "      <td>0.042404</td>\n",
       "      <td>0.019719</td>\n",
       "      <td>0.089294</td>\n",
       "      <td>...</td>\n",
       "      <td>-2.105499e-16</td>\n",
       "      <td>-5.449746e-17</td>\n",
       "      <td>-8.136704e-17</td>\n",
       "      <td>-1.317968e-16</td>\n",
       "      <td>9.153250e-19</td>\n",
       "      <td>3.419070e-17</td>\n",
       "      <td>5.365583e-17</td>\n",
       "      <td>9.245788e-17</td>\n",
       "      <td>3.291252e-19</td>\n",
       "      <td>2.017045e-16</td>\n",
       "    </tr>\n",
       "    <tr>\n",
       "      <th>2</th>\n",
       "      <td>2</td>\n",
       "      <td>-0.114546</td>\n",
       "      <td>-0.035896</td>\n",
       "      <td>-0.126653</td>\n",
       "      <td>0.046923</td>\n",
       "      <td>0.045059</td>\n",
       "      <td>-0.215881</td>\n",
       "      <td>0.223829</td>\n",
       "      <td>-0.022574</td>\n",
       "      <td>-0.048085</td>\n",
       "      <td>...</td>\n",
       "      <td>-3.342434e-17</td>\n",
       "      <td>-2.531083e-17</td>\n",
       "      <td>1.944576e-18</td>\n",
       "      <td>-7.136464e-18</td>\n",
       "      <td>-2.730728e-18</td>\n",
       "      <td>-8.282076e-18</td>\n",
       "      <td>-3.119485e-17</td>\n",
       "      <td>3.070494e-18</td>\n",
       "      <td>2.124110e-17</td>\n",
       "      <td>-7.346423e-19</td>\n",
       "    </tr>\n",
       "    <tr>\n",
       "      <th>3</th>\n",
       "      <td>3</td>\n",
       "      <td>-0.091030</td>\n",
       "      <td>-0.017803</td>\n",
       "      <td>0.093363</td>\n",
       "      <td>0.155490</td>\n",
       "      <td>0.025837</td>\n",
       "      <td>-0.022723</td>\n",
       "      <td>0.038680</td>\n",
       "      <td>-0.032345</td>\n",
       "      <td>-0.094818</td>\n",
       "      <td>...</td>\n",
       "      <td>-1.920605e-17</td>\n",
       "      <td>-5.913349e-18</td>\n",
       "      <td>-8.806813e-18</td>\n",
       "      <td>4.862371e-17</td>\n",
       "      <td>9.517792e-18</td>\n",
       "      <td>3.120914e-17</td>\n",
       "      <td>1.510482e-17</td>\n",
       "      <td>-1.147137e-17</td>\n",
       "      <td>-4.133473e-17</td>\n",
       "      <td>2.643325e-18</td>\n",
       "    </tr>\n",
       "    <tr>\n",
       "      <th>4</th>\n",
       "      <td>4</td>\n",
       "      <td>-0.083948</td>\n",
       "      <td>-0.008909</td>\n",
       "      <td>0.008896</td>\n",
       "      <td>0.003783</td>\n",
       "      <td>0.006889</td>\n",
       "      <td>0.062488</td>\n",
       "      <td>-0.047705</td>\n",
       "      <td>-0.032693</td>\n",
       "      <td>-0.075397</td>\n",
       "      <td>...</td>\n",
       "      <td>3.599001e-17</td>\n",
       "      <td>-1.763078e-17</td>\n",
       "      <td>2.637216e-17</td>\n",
       "      <td>2.949157e-18</td>\n",
       "      <td>3.860744e-17</td>\n",
       "      <td>1.692308e-17</td>\n",
       "      <td>-1.302176e-17</td>\n",
       "      <td>3.904398e-17</td>\n",
       "      <td>-2.249672e-17</td>\n",
       "      <td>-4.268464e-18</td>\n",
       "    </tr>\n",
       "  </tbody>\n",
       "</table>\n",
       "<p>5 rows × 6552 columns</p>\n",
       "</div>"
      ],
      "text/plain": [
       "   Unnamed: 0      pc_1      pc_2      pc_3      pc_4      pc_5      pc_6  \\\n",
       "0           0 -0.105592 -0.029830 -0.083962  0.082105  0.017019  0.134082   \n",
       "1           1 -0.099076 -0.021082 -0.038139  0.000626  0.003329 -0.062547   \n",
       "2           2 -0.114546 -0.035896 -0.126653  0.046923  0.045059 -0.215881   \n",
       "3           3 -0.091030 -0.017803  0.093363  0.155490  0.025837 -0.022723   \n",
       "4           4 -0.083948 -0.008909  0.008896  0.003783  0.006889  0.062488   \n",
       "\n",
       "       pc_7      pc_8      pc_9  ...       pc_6542       pc_6543  \\\n",
       "0 -0.072522 -0.006849 -0.068842  ... -4.571805e-16  9.392261e-17   \n",
       "1  0.042404  0.019719  0.089294  ... -2.105499e-16 -5.449746e-17   \n",
       "2  0.223829 -0.022574 -0.048085  ... -3.342434e-17 -2.531083e-17   \n",
       "3  0.038680 -0.032345 -0.094818  ... -1.920605e-17 -5.913349e-18   \n",
       "4 -0.047705 -0.032693 -0.075397  ...  3.599001e-17 -1.763078e-17   \n",
       "\n",
       "        pc_6544       pc_6545       pc_6546       pc_6547       pc_6548  \\\n",
       "0 -5.865131e-17  1.153722e-17 -1.133192e-17  6.973199e-19  1.421004e-18   \n",
       "1 -8.136704e-17 -1.317968e-16  9.153250e-19  3.419070e-17  5.365583e-17   \n",
       "2  1.944576e-18 -7.136464e-18 -2.730728e-18 -8.282076e-18 -3.119485e-17   \n",
       "3 -8.806813e-18  4.862371e-17  9.517792e-18  3.120914e-17  1.510482e-17   \n",
       "4  2.637216e-17  2.949157e-18  3.860744e-17  1.692308e-17 -1.302176e-17   \n",
       "\n",
       "        pc_6549       pc_6550       pc_6551  \n",
       "0  7.973121e-18  2.735286e-17  2.367685e-17  \n",
       "1  9.245788e-17  3.291252e-19  2.017045e-16  \n",
       "2  3.070494e-18  2.124110e-17 -7.346423e-19  \n",
       "3 -1.147137e-17 -4.133473e-17  2.643325e-18  \n",
       "4  3.904398e-17 -2.249672e-17 -4.268464e-18  \n",
       "\n",
       "[5 rows x 6552 columns]"
      ]
     },
     "execution_count": 13,
     "metadata": {},
     "output_type": "execute_result"
    }
   ],
   "source": [
    "df_pca.head()"
   ]
  },
  {
   "cell_type": "code",
   "execution_count": 6,
   "id": "a9c591ef",
   "metadata": {},
   "outputs": [],
   "source": [
    "stock = pd.read_csv('TSLA_addStockComp.csv')"
   ]
  },
  {
   "cell_type": "code",
   "execution_count": 7,
   "id": "314e9a14",
   "metadata": {},
   "outputs": [
    {
     "data": {
      "text/html": [
       "<div>\n",
       "<style scoped>\n",
       "    .dataframe tbody tr th:only-of-type {\n",
       "        vertical-align: middle;\n",
       "    }\n",
       "\n",
       "    .dataframe tbody tr th {\n",
       "        vertical-align: top;\n",
       "    }\n",
       "\n",
       "    .dataframe thead th {\n",
       "        text-align: right;\n",
       "    }\n",
       "</style>\n",
       "<table border=\"1\" class=\"dataframe\">\n",
       "  <thead>\n",
       "    <tr style=\"text-align: right;\">\n",
       "      <th></th>\n",
       "      <th>Date</th>\n",
       "      <th>Open</th>\n",
       "      <th>Close</th>\n",
       "      <th>Volume</th>\n",
       "      <th>gap</th>\n",
       "      <th>upDown</th>\n",
       "    </tr>\n",
       "  </thead>\n",
       "  <tbody>\n",
       "    <tr>\n",
       "      <th>0</th>\n",
       "      <td>2010-06-29</td>\n",
       "      <td>3.800</td>\n",
       "      <td>4.778</td>\n",
       "      <td>93831500</td>\n",
       "      <td>25.73</td>\n",
       "      <td>1</td>\n",
       "    </tr>\n",
       "    <tr>\n",
       "      <th>1</th>\n",
       "      <td>2010-06-30</td>\n",
       "      <td>5.158</td>\n",
       "      <td>4.766</td>\n",
       "      <td>85935500</td>\n",
       "      <td>-7.59</td>\n",
       "      <td>-1</td>\n",
       "    </tr>\n",
       "    <tr>\n",
       "      <th>2</th>\n",
       "      <td>2010-07-01</td>\n",
       "      <td>5.000</td>\n",
       "      <td>4.392</td>\n",
       "      <td>41094000</td>\n",
       "      <td>-12.15</td>\n",
       "      <td>-1</td>\n",
       "    </tr>\n",
       "    <tr>\n",
       "      <th>3</th>\n",
       "      <td>2010-07-02</td>\n",
       "      <td>4.600</td>\n",
       "      <td>3.840</td>\n",
       "      <td>25699000</td>\n",
       "      <td>-16.52</td>\n",
       "      <td>-1</td>\n",
       "    </tr>\n",
       "    <tr>\n",
       "      <th>4</th>\n",
       "      <td>2010-07-06</td>\n",
       "      <td>4.000</td>\n",
       "      <td>3.222</td>\n",
       "      <td>34334500</td>\n",
       "      <td>-19.45</td>\n",
       "      <td>-1</td>\n",
       "    </tr>\n",
       "  </tbody>\n",
       "</table>\n",
       "</div>"
      ],
      "text/plain": [
       "         Date   Open  Close    Volume    gap  upDown\n",
       "0  2010-06-29  3.800  4.778  93831500  25.73       1\n",
       "1  2010-06-30  5.158  4.766  85935500  -7.59      -1\n",
       "2  2010-07-01  5.000  4.392  41094000 -12.15      -1\n",
       "3  2010-07-02  4.600  3.840  25699000 -16.52      -1\n",
       "4  2010-07-06  4.000  3.222  34334500 -19.45      -1"
      ]
     },
     "execution_count": 7,
     "metadata": {},
     "output_type": "execute_result"
    }
   ],
   "source": [
    "stock.head()"
   ]
  },
  {
   "cell_type": "code",
   "execution_count": 8,
   "id": "e34e39ef",
   "metadata": {},
   "outputs": [],
   "source": [
    "df_1 = df[['ID', 'Date', 'Tweet', 'Retweets', 'Tweet Length', 'Sentiment', 'Polarity']]"
   ]
  },
  {
   "cell_type": "code",
   "execution_count": 14,
   "id": "ca87d353",
   "metadata": {},
   "outputs": [],
   "source": [
    "df_2 = pd.concat([df_1, df_pca], axis=1)"
   ]
  },
  {
   "cell_type": "code",
   "execution_count": 15,
   "id": "1f3dd08b",
   "metadata": {},
   "outputs": [],
   "source": [
    "df_up = stock[['upDown']]"
   ]
  },
  {
   "cell_type": "code",
   "execution_count": 16,
   "id": "1be35b78",
   "metadata": {},
   "outputs": [],
   "source": [
    "df_3 = pd.concat([df_2, df_up], axis=1)"
   ]
  },
  {
   "cell_type": "code",
   "execution_count": 17,
   "id": "6b11c28a",
   "metadata": {},
   "outputs": [
    {
     "data": {
      "text/html": [
       "<div>\n",
       "<style scoped>\n",
       "    .dataframe tbody tr th:only-of-type {\n",
       "        vertical-align: middle;\n",
       "    }\n",
       "\n",
       "    .dataframe tbody tr th {\n",
       "        vertical-align: top;\n",
       "    }\n",
       "\n",
       "    .dataframe thead th {\n",
       "        text-align: right;\n",
       "    }\n",
       "</style>\n",
       "<table border=\"1\" class=\"dataframe\">\n",
       "  <thead>\n",
       "    <tr style=\"text-align: right;\">\n",
       "      <th></th>\n",
       "      <th>ID</th>\n",
       "      <th>Date</th>\n",
       "      <th>Tweet</th>\n",
       "      <th>Retweets</th>\n",
       "      <th>Tweet Length</th>\n",
       "      <th>Sentiment</th>\n",
       "      <th>Polarity</th>\n",
       "      <th>Unnamed: 0</th>\n",
       "      <th>pc_1</th>\n",
       "      <th>pc_2</th>\n",
       "      <th>...</th>\n",
       "      <th>pc_6543</th>\n",
       "      <th>pc_6544</th>\n",
       "      <th>pc_6545</th>\n",
       "      <th>pc_6546</th>\n",
       "      <th>pc_6547</th>\n",
       "      <th>pc_6548</th>\n",
       "      <th>pc_6549</th>\n",
       "      <th>pc_6550</th>\n",
       "      <th>pc_6551</th>\n",
       "      <th>upDown</th>\n",
       "    </tr>\n",
       "  </thead>\n",
       "  <tbody>\n",
       "    <tr>\n",
       "      <th>0</th>\n",
       "      <td>0</td>\n",
       "      <td>2010-06-05</td>\n",
       "      <td>Please ignore prior tweets as that was someone...</td>\n",
       "      <td>5,453</td>\n",
       "      <td>106</td>\n",
       "      <td>0</td>\n",
       "      <td>0.00</td>\n",
       "      <td>0.0</td>\n",
       "      <td>-0.105592</td>\n",
       "      <td>-0.029830</td>\n",
       "      <td>...</td>\n",
       "      <td>9.392261e-17</td>\n",
       "      <td>-5.865131e-17</td>\n",
       "      <td>1.153722e-17</td>\n",
       "      <td>-1.133192e-17</td>\n",
       "      <td>6.973199e-19</td>\n",
       "      <td>1.421004e-18</td>\n",
       "      <td>7.973121e-18</td>\n",
       "      <td>2.735286e-17</td>\n",
       "      <td>2.367685e-17</td>\n",
       "      <td>1.0</td>\n",
       "    </tr>\n",
       "    <tr>\n",
       "      <th>1</th>\n",
       "      <td>1</td>\n",
       "      <td>2011-12-01</td>\n",
       "      <td>Went to Iceland on Sat to ride bumper cars on ...</td>\n",
       "      <td>188</td>\n",
       "      <td>129</td>\n",
       "      <td>1</td>\n",
       "      <td>0.65</td>\n",
       "      <td>1.0</td>\n",
       "      <td>-0.099076</td>\n",
       "      <td>-0.021082</td>\n",
       "      <td>...</td>\n",
       "      <td>-5.449746e-17</td>\n",
       "      <td>-8.136704e-17</td>\n",
       "      <td>-1.317968e-16</td>\n",
       "      <td>9.153250e-19</td>\n",
       "      <td>3.419070e-17</td>\n",
       "      <td>5.365583e-17</td>\n",
       "      <td>9.245788e-17</td>\n",
       "      <td>3.291252e-19</td>\n",
       "      <td>2.017045e-16</td>\n",
       "      <td>-1.0</td>\n",
       "    </tr>\n",
       "    <tr>\n",
       "      <th>2</th>\n",
       "      <td>2</td>\n",
       "      <td>2011-12-01</td>\n",
       "      <td>I made the volume on the Model S</td>\n",
       "      <td>78</td>\n",
       "      <td>125</td>\n",
       "      <td>0</td>\n",
       "      <td>0.00</td>\n",
       "      <td>2.0</td>\n",
       "      <td>-0.114546</td>\n",
       "      <td>-0.035896</td>\n",
       "      <td>...</td>\n",
       "      <td>-2.531083e-17</td>\n",
       "      <td>1.944576e-18</td>\n",
       "      <td>-7.136464e-18</td>\n",
       "      <td>-2.730728e-18</td>\n",
       "      <td>-8.282076e-18</td>\n",
       "      <td>-3.119485e-17</td>\n",
       "      <td>3.070494e-18</td>\n",
       "      <td>2.124110e-17</td>\n",
       "      <td>-7.346423e-19</td>\n",
       "      <td>-1.0</td>\n",
       "    </tr>\n",
       "    <tr>\n",
       "      <th>3</th>\n",
       "      <td>3</td>\n",
       "      <td>2011-12-03</td>\n",
       "      <td>Great Voltaire quote arguably better than Twai...</td>\n",
       "      <td>44</td>\n",
       "      <td>145</td>\n",
       "      <td>1</td>\n",
       "      <td>0.45</td>\n",
       "      <td>3.0</td>\n",
       "      <td>-0.091030</td>\n",
       "      <td>-0.017803</td>\n",
       "      <td>...</td>\n",
       "      <td>-5.913349e-18</td>\n",
       "      <td>-8.806813e-18</td>\n",
       "      <td>4.862371e-17</td>\n",
       "      <td>9.517792e-18</td>\n",
       "      <td>3.120914e-17</td>\n",
       "      <td>1.510482e-17</td>\n",
       "      <td>-1.147137e-17</td>\n",
       "      <td>-4.133473e-17</td>\n",
       "      <td>2.643325e-18</td>\n",
       "      <td>-1.0</td>\n",
       "    </tr>\n",
       "    <tr>\n",
       "      <th>4</th>\n",
       "      <td>4</td>\n",
       "      <td>2011-12-03</td>\n",
       "      <td>That was a total non sequitur btw</td>\n",
       "      <td>50</td>\n",
       "      <td>42</td>\n",
       "      <td>0</td>\n",
       "      <td>0.00</td>\n",
       "      <td>4.0</td>\n",
       "      <td>-0.083948</td>\n",
       "      <td>-0.008909</td>\n",
       "      <td>...</td>\n",
       "      <td>-1.763078e-17</td>\n",
       "      <td>2.637216e-17</td>\n",
       "      <td>2.949157e-18</td>\n",
       "      <td>3.860744e-17</td>\n",
       "      <td>1.692308e-17</td>\n",
       "      <td>-1.302176e-17</td>\n",
       "      <td>3.904398e-17</td>\n",
       "      <td>-2.249672e-17</td>\n",
       "      <td>-4.268464e-18</td>\n",
       "      <td>-1.0</td>\n",
       "    </tr>\n",
       "  </tbody>\n",
       "</table>\n",
       "<p>5 rows × 6560 columns</p>\n",
       "</div>"
      ],
      "text/plain": [
       "   ID        Date                                              Tweet Retweets  \\\n",
       "0   0  2010-06-05  Please ignore prior tweets as that was someone...    5,453   \n",
       "1   1  2011-12-01  Went to Iceland on Sat to ride bumper cars on ...      188   \n",
       "2   2  2011-12-01                  I made the volume on the Model S        78   \n",
       "3   3  2011-12-03  Great Voltaire quote arguably better than Twai...       44   \n",
       "4   4  2011-12-03                  That was a total non sequitur btw       50   \n",
       "\n",
       "   Tweet Length  Sentiment  Polarity  Unnamed: 0      pc_1      pc_2  ...  \\\n",
       "0           106          0      0.00         0.0 -0.105592 -0.029830  ...   \n",
       "1           129          1      0.65         1.0 -0.099076 -0.021082  ...   \n",
       "2           125          0      0.00         2.0 -0.114546 -0.035896  ...   \n",
       "3           145          1      0.45         3.0 -0.091030 -0.017803  ...   \n",
       "4            42          0      0.00         4.0 -0.083948 -0.008909  ...   \n",
       "\n",
       "        pc_6543       pc_6544       pc_6545       pc_6546       pc_6547  \\\n",
       "0  9.392261e-17 -5.865131e-17  1.153722e-17 -1.133192e-17  6.973199e-19   \n",
       "1 -5.449746e-17 -8.136704e-17 -1.317968e-16  9.153250e-19  3.419070e-17   \n",
       "2 -2.531083e-17  1.944576e-18 -7.136464e-18 -2.730728e-18 -8.282076e-18   \n",
       "3 -5.913349e-18 -8.806813e-18  4.862371e-17  9.517792e-18  3.120914e-17   \n",
       "4 -1.763078e-17  2.637216e-17  2.949157e-18  3.860744e-17  1.692308e-17   \n",
       "\n",
       "        pc_6548       pc_6549       pc_6550       pc_6551  upDown  \n",
       "0  1.421004e-18  7.973121e-18  2.735286e-17  2.367685e-17     1.0  \n",
       "1  5.365583e-17  9.245788e-17  3.291252e-19  2.017045e-16    -1.0  \n",
       "2 -3.119485e-17  3.070494e-18  2.124110e-17 -7.346423e-19    -1.0  \n",
       "3  1.510482e-17 -1.147137e-17 -4.133473e-17  2.643325e-18    -1.0  \n",
       "4 -1.302176e-17  3.904398e-17 -2.249672e-17 -4.268464e-18    -1.0  \n",
       "\n",
       "[5 rows x 6560 columns]"
      ]
     },
     "execution_count": 17,
     "metadata": {},
     "output_type": "execute_result"
    }
   ],
   "source": [
    "df_3.head()"
   ]
  },
  {
   "cell_type": "code",
   "execution_count": 18,
   "id": "0df9466e",
   "metadata": {},
   "outputs": [],
   "source": [
    "df_2 = df_3.drop(columns=['Unnamed: 0'])"
   ]
  },
  {
   "cell_type": "code",
   "execution_count": 20,
   "id": "b73f71d9",
   "metadata": {
    "scrolled": true
   },
   "outputs": [],
   "source": [
    "scaler = StandardScaler()"
   ]
  },
  {
   "cell_type": "code",
   "execution_count": 21,
   "id": "bd4b76ab",
   "metadata": {
    "collapsed": true
   },
   "outputs": [
    {
     "data": {
      "text/html": [
       "<div>\n",
       "<style scoped>\n",
       "    .dataframe tbody tr th:only-of-type {\n",
       "        vertical-align: middle;\n",
       "    }\n",
       "\n",
       "    .dataframe tbody tr th {\n",
       "        vertical-align: top;\n",
       "    }\n",
       "\n",
       "    .dataframe thead th {\n",
       "        text-align: right;\n",
       "    }\n",
       "</style>\n",
       "<table border=\"1\" class=\"dataframe\">\n",
       "  <thead>\n",
       "    <tr style=\"text-align: right;\">\n",
       "      <th></th>\n",
       "      <th>ID</th>\n",
       "      <th>Date</th>\n",
       "      <th>Tweet</th>\n",
       "      <th>Retweets</th>\n",
       "      <th>Tweet Length</th>\n",
       "      <th>Sentiment</th>\n",
       "      <th>Polarity</th>\n",
       "      <th>pc_1</th>\n",
       "      <th>pc_2</th>\n",
       "      <th>pc_3</th>\n",
       "      <th>...</th>\n",
       "      <th>pc_6543</th>\n",
       "      <th>pc_6544</th>\n",
       "      <th>pc_6545</th>\n",
       "      <th>pc_6546</th>\n",
       "      <th>pc_6547</th>\n",
       "      <th>pc_6548</th>\n",
       "      <th>pc_6549</th>\n",
       "      <th>pc_6550</th>\n",
       "      <th>pc_6551</th>\n",
       "      <th>upDown</th>\n",
       "    </tr>\n",
       "  </thead>\n",
       "  <tbody>\n",
       "    <tr>\n",
       "      <th>0</th>\n",
       "      <td>0</td>\n",
       "      <td>2010-06-05</td>\n",
       "      <td>Please ignore prior tweets as that was someone...</td>\n",
       "      <td>5,453</td>\n",
       "      <td>106</td>\n",
       "      <td>0</td>\n",
       "      <td>0.00</td>\n",
       "      <td>-0.105592</td>\n",
       "      <td>-0.029830</td>\n",
       "      <td>-0.083962</td>\n",
       "      <td>...</td>\n",
       "      <td>9.392261e-17</td>\n",
       "      <td>-5.865131e-17</td>\n",
       "      <td>1.153722e-17</td>\n",
       "      <td>-1.133192e-17</td>\n",
       "      <td>6.973199e-19</td>\n",
       "      <td>1.421004e-18</td>\n",
       "      <td>7.973121e-18</td>\n",
       "      <td>2.735286e-17</td>\n",
       "      <td>2.367685e-17</td>\n",
       "      <td>1.0</td>\n",
       "    </tr>\n",
       "    <tr>\n",
       "      <th>1</th>\n",
       "      <td>1</td>\n",
       "      <td>2011-12-01</td>\n",
       "      <td>Went to Iceland on Sat to ride bumper cars on ...</td>\n",
       "      <td>188</td>\n",
       "      <td>129</td>\n",
       "      <td>1</td>\n",
       "      <td>0.65</td>\n",
       "      <td>-0.099076</td>\n",
       "      <td>-0.021082</td>\n",
       "      <td>-0.038139</td>\n",
       "      <td>...</td>\n",
       "      <td>-5.449746e-17</td>\n",
       "      <td>-8.136704e-17</td>\n",
       "      <td>-1.317968e-16</td>\n",
       "      <td>9.153250e-19</td>\n",
       "      <td>3.419070e-17</td>\n",
       "      <td>5.365583e-17</td>\n",
       "      <td>9.245788e-17</td>\n",
       "      <td>3.291252e-19</td>\n",
       "      <td>2.017045e-16</td>\n",
       "      <td>-1.0</td>\n",
       "    </tr>\n",
       "    <tr>\n",
       "      <th>2</th>\n",
       "      <td>2</td>\n",
       "      <td>2011-12-01</td>\n",
       "      <td>I made the volume on the Model S</td>\n",
       "      <td>78</td>\n",
       "      <td>125</td>\n",
       "      <td>0</td>\n",
       "      <td>0.00</td>\n",
       "      <td>-0.114546</td>\n",
       "      <td>-0.035896</td>\n",
       "      <td>-0.126653</td>\n",
       "      <td>...</td>\n",
       "      <td>-2.531083e-17</td>\n",
       "      <td>1.944576e-18</td>\n",
       "      <td>-7.136464e-18</td>\n",
       "      <td>-2.730728e-18</td>\n",
       "      <td>-8.282076e-18</td>\n",
       "      <td>-3.119485e-17</td>\n",
       "      <td>3.070494e-18</td>\n",
       "      <td>2.124110e-17</td>\n",
       "      <td>-7.346423e-19</td>\n",
       "      <td>-1.0</td>\n",
       "    </tr>\n",
       "    <tr>\n",
       "      <th>3</th>\n",
       "      <td>3</td>\n",
       "      <td>2011-12-03</td>\n",
       "      <td>Great Voltaire quote arguably better than Twai...</td>\n",
       "      <td>44</td>\n",
       "      <td>145</td>\n",
       "      <td>1</td>\n",
       "      <td>0.45</td>\n",
       "      <td>-0.091030</td>\n",
       "      <td>-0.017803</td>\n",
       "      <td>0.093363</td>\n",
       "      <td>...</td>\n",
       "      <td>-5.913349e-18</td>\n",
       "      <td>-8.806813e-18</td>\n",
       "      <td>4.862371e-17</td>\n",
       "      <td>9.517792e-18</td>\n",
       "      <td>3.120914e-17</td>\n",
       "      <td>1.510482e-17</td>\n",
       "      <td>-1.147137e-17</td>\n",
       "      <td>-4.133473e-17</td>\n",
       "      <td>2.643325e-18</td>\n",
       "      <td>-1.0</td>\n",
       "    </tr>\n",
       "    <tr>\n",
       "      <th>4</th>\n",
       "      <td>4</td>\n",
       "      <td>2011-12-03</td>\n",
       "      <td>That was a total non sequitur btw</td>\n",
       "      <td>50</td>\n",
       "      <td>42</td>\n",
       "      <td>0</td>\n",
       "      <td>0.00</td>\n",
       "      <td>-0.083948</td>\n",
       "      <td>-0.008909</td>\n",
       "      <td>0.008896</td>\n",
       "      <td>...</td>\n",
       "      <td>-1.763078e-17</td>\n",
       "      <td>2.637216e-17</td>\n",
       "      <td>2.949157e-18</td>\n",
       "      <td>3.860744e-17</td>\n",
       "      <td>1.692308e-17</td>\n",
       "      <td>-1.302176e-17</td>\n",
       "      <td>3.904398e-17</td>\n",
       "      <td>-2.249672e-17</td>\n",
       "      <td>-4.268464e-18</td>\n",
       "      <td>-1.0</td>\n",
       "    </tr>\n",
       "  </tbody>\n",
       "</table>\n",
       "<p>5 rows × 6559 columns</p>\n",
       "</div>"
      ],
      "text/plain": [
       "   ID        Date                                              Tweet Retweets  \\\n",
       "0   0  2010-06-05  Please ignore prior tweets as that was someone...    5,453   \n",
       "1   1  2011-12-01  Went to Iceland on Sat to ride bumper cars on ...      188   \n",
       "2   2  2011-12-01                  I made the volume on the Model S        78   \n",
       "3   3  2011-12-03  Great Voltaire quote arguably better than Twai...       44   \n",
       "4   4  2011-12-03                  That was a total non sequitur btw       50   \n",
       "\n",
       "   Tweet Length  Sentiment  Polarity      pc_1      pc_2      pc_3  ...  \\\n",
       "0           106          0      0.00 -0.105592 -0.029830 -0.083962  ...   \n",
       "1           129          1      0.65 -0.099076 -0.021082 -0.038139  ...   \n",
       "2           125          0      0.00 -0.114546 -0.035896 -0.126653  ...   \n",
       "3           145          1      0.45 -0.091030 -0.017803  0.093363  ...   \n",
       "4            42          0      0.00 -0.083948 -0.008909  0.008896  ...   \n",
       "\n",
       "        pc_6543       pc_6544       pc_6545       pc_6546       pc_6547  \\\n",
       "0  9.392261e-17 -5.865131e-17  1.153722e-17 -1.133192e-17  6.973199e-19   \n",
       "1 -5.449746e-17 -8.136704e-17 -1.317968e-16  9.153250e-19  3.419070e-17   \n",
       "2 -2.531083e-17  1.944576e-18 -7.136464e-18 -2.730728e-18 -8.282076e-18   \n",
       "3 -5.913349e-18 -8.806813e-18  4.862371e-17  9.517792e-18  3.120914e-17   \n",
       "4 -1.763078e-17  2.637216e-17  2.949157e-18  3.860744e-17  1.692308e-17   \n",
       "\n",
       "        pc_6548       pc_6549       pc_6550       pc_6551  upDown  \n",
       "0  1.421004e-18  7.973121e-18  2.735286e-17  2.367685e-17     1.0  \n",
       "1  5.365583e-17  9.245788e-17  3.291252e-19  2.017045e-16    -1.0  \n",
       "2 -3.119485e-17  3.070494e-18  2.124110e-17 -7.346423e-19    -1.0  \n",
       "3  1.510482e-17 -1.147137e-17 -4.133473e-17  2.643325e-18    -1.0  \n",
       "4 -1.302176e-17  3.904398e-17 -2.249672e-17 -4.268464e-18    -1.0  \n",
       "\n",
       "[5 rows x 6559 columns]"
      ]
     },
     "execution_count": 21,
     "metadata": {},
     "output_type": "execute_result"
    }
   ],
   "source": [
    "df_2.head()"
   ]
  },
  {
   "cell_type": "code",
   "execution_count": 24,
   "id": "a4e18b7a",
   "metadata": {},
   "outputs": [],
   "source": [
    "target = df_2.upDown"
   ]
  },
  {
   "cell_type": "code",
   "execution_count": 25,
   "id": "8356ea7c",
   "metadata": {},
   "outputs": [
    {
     "data": {
      "text/plain": [
       "<AxesSubplot:xlabel='upDown', ylabel='count'>"
      ]
     },
     "execution_count": 25,
     "metadata": {},
     "output_type": "execute_result"
    },
    {
     "data": {
      "image/png": "[encoded data removed]",
      "text/plain": [
       "<Figure size 432x288 with 1 Axes>"
      ]
     },
     "metadata": {
      "needs_background": "light"
     },
     "output_type": "display_data"
    }
   ],
   "source": [
    "sns.countplot(df_2['upDown'])"
   ]
  },
  {
   "cell_type": "raw",
   "id": "3d75b671",
   "metadata": {},
   "source": [
    "Exploratory Data Analysis"
   ]
  },
  {
   "cell_type": "raw",
   "id": "01da6940",
   "metadata": {},
   "source": []
  },
  {
   "cell_type": "code",
   "execution_count": 35,
   "id": "a9c99ee7",
   "metadata": {},
   "outputs": [
    {
     "data": {
      "text/html": [
       "<div>\n",
       "<style scoped>\n",
       "    .dataframe tbody tr th:only-of-type {\n",
       "        vertical-align: middle;\n",
       "    }\n",
       "\n",
       "    .dataframe tbody tr th {\n",
       "        vertical-align: top;\n",
       "    }\n",
       "\n",
       "    .dataframe thead th {\n",
       "        text-align: right;\n",
       "    }\n",
       "</style>\n",
       "<table border=\"1\" class=\"dataframe\">\n",
       "  <thead>\n",
       "    <tr style=\"text-align: right;\">\n",
       "      <th></th>\n",
       "      <th>Tweet</th>\n",
       "      <th>Tweet Length</th>\n",
       "      <th>Sentiment</th>\n",
       "      <th>target</th>\n",
       "    </tr>\n",
       "  </thead>\n",
       "  <tbody>\n",
       "    <tr>\n",
       "      <th>0</th>\n",
       "      <td>Please ignore prior tweets as that was someone...</td>\n",
       "      <td>106</td>\n",
       "      <td>0</td>\n",
       "      <td>1.0</td>\n",
       "    </tr>\n",
       "    <tr>\n",
       "      <th>1</th>\n",
       "      <td>Went to Iceland on Sat to ride bumper cars on ...</td>\n",
       "      <td>129</td>\n",
       "      <td>1</td>\n",
       "      <td>-1.0</td>\n",
       "    </tr>\n",
       "    <tr>\n",
       "      <th>2</th>\n",
       "      <td>I made the volume on the Model S</td>\n",
       "      <td>125</td>\n",
       "      <td>0</td>\n",
       "      <td>-1.0</td>\n",
       "    </tr>\n",
       "    <tr>\n",
       "      <th>3</th>\n",
       "      <td>Great Voltaire quote arguably better than Twai...</td>\n",
       "      <td>145</td>\n",
       "      <td>1</td>\n",
       "      <td>-1.0</td>\n",
       "    </tr>\n",
       "    <tr>\n",
       "      <th>4</th>\n",
       "      <td>That was a total non sequitur btw</td>\n",
       "      <td>42</td>\n",
       "      <td>0</td>\n",
       "      <td>-1.0</td>\n",
       "    </tr>\n",
       "  </tbody>\n",
       "</table>\n",
       "</div>"
      ],
      "text/plain": [
       "                                               Tweet  Tweet Length  Sentiment  \\\n",
       "0  Please ignore prior tweets as that was someone...           106          0   \n",
       "1  Went to Iceland on Sat to ride bumper cars on ...           129          1   \n",
       "2                  I made the volume on the Model S            125          0   \n",
       "3  Great Voltaire quote arguably better than Twai...           145          1   \n",
       "4                  That was a total non sequitur btw            42          0   \n",
       "\n",
       "   target  \n",
       "0     1.0  \n",
       "1    -1.0  \n",
       "2    -1.0  \n",
       "3    -1.0  \n",
       "4    -1.0  "
      ]
     },
     "execution_count": 35,
     "metadata": {},
     "output_type": "execute_result"
    }
   ],
   "source": [
    "df_graph = df_2[['Tweet']]\n",
    "\n",
    "df_graph['Tweet Length'] = df_2['Tweet Length']\n",
    "\n",
    "df_graph['Sentiment'] = df_2['Sentiment']\n",
    "\n",
    "df_graph['target'] = target\n",
    "\n",
    "df_graph.head()"
   ]
  },
  {
   "cell_type": "code",
   "execution_count": 36,
   "id": "1ceecc1f",
   "metadata": {},
   "outputs": [
    {
     "data": {
      "text/plain": [
       "count    12206.000000\n",
       "mean       122.561117\n",
       "std         81.676819\n",
       "min          9.000000\n",
       "25%         63.000000\n",
       "50%        100.000000\n",
       "75%        158.000000\n",
       "max        851.000000\n",
       "Name: Tweet Length, dtype: float64"
      ]
     },
     "execution_count": 36,
     "metadata": {},
     "output_type": "execute_result"
    }
   ],
   "source": [
    "df_graph['Tweet Length'].describe()"
   ]
  },
  {
   "cell_type": "code",
   "execution_count": 37,
   "id": "4cb3334c",
   "metadata": {},
   "outputs": [
    {
     "data": {
      "text/plain": [
       "<AxesSubplot:>"
      ]
     },
     "execution_count": 37,
     "metadata": {},
     "output_type": "execute_result"
    },
    {
     "data": {
      "image/png": "[encoded data removed]",
      "text/plain": [
       "<Figure size 432x288 with 1 Axes>"
      ]
     },
     "metadata": {
      "needs_background": "light"
     },
     "output_type": "display_data"
    }
   ],
   "source": [
    "df_graph['Tweet Length'].hist(bins = 25)"
   ]
  },
  {
   "cell_type": "code",
   "execution_count": 38,
   "id": "a8c78ad3",
   "metadata": {},
   "outputs": [
    {
     "data": {
      "text/plain": [
       "<seaborn.axisgrid.FacetGrid at 0x1b35b0871f0>"
      ]
     },
     "execution_count": 38,
     "metadata": {},
     "output_type": "execute_result"
    },
    {
     "data": {
      "image/png": "[encoded data removed]",
      "text/plain": [
       "<Figure size 648x216 with 3 Axes>"
      ]
     },
     "metadata": {
      "needs_background": "light"
     },
     "output_type": "display_data"
    }
   ],
   "source": [
    "sentiment_graph = sns.FacetGrid(df_graph, col='Sentiment')\n",
    "sentiment_graph.map(plt.hist, 'Tweet Length', color = 'r')"
   ]
  },
  {
   "cell_type": "code",
   "execution_count": 41,
   "id": "f9cb6dd7",
   "metadata": {},
   "outputs": [
    {
     "data": {
      "text/plain": [
       "<seaborn.axisgrid.FacetGrid at 0x1b35b3014f0>"
      ]
     },
     "execution_count": 41,
     "metadata": {},
     "output_type": "execute_result"
    },
    {
     "data": {
      "image/png": "[encoded data removed]",
      "text/plain": [
       "<Figure size 648x216 with 3 Axes>"
      ]
     },
     "metadata": {
      "needs_background": "light"
     },
     "output_type": "display_data"
    }
   ],
   "source": [
    "target_graph = sns.FacetGrid(df_graph,col='target')\n",
    "target_graph.map(plt.hist,'Tweet Length', color='seagreen')"
   ]
  },
  {
   "cell_type": "code",
   "execution_count": 42,
   "id": "57074c7c",
   "metadata": {},
   "outputs": [
    {
     "data": {
      "text/plain": [
       "<seaborn.axisgrid.FacetGrid at 0x1b35b4a70a0>"
      ]
     },
     "execution_count": 42,
     "metadata": {},
     "output_type": "execute_result"
    },
    {
     "data": {
      "image/png": "[encoded data removed]",
      "text/plain": [
       "<Figure size 648x216 with 3 Axes>"
      ]
     },
     "metadata": {
      "needs_background": "light"
     },
     "output_type": "display_data"
    }
   ],
   "source": [
    "target_sentiment_graph = sns.FacetGrid(df_graph,col='target')\n",
    "target_sentiment_graph.map(plt.hist,'Sentiment')"
   ]
  },
  {
   "cell_type": "raw",
   "id": "4648bffd",
   "metadata": {},
   "source": [
    "ANN Model for non tweet features\n"
   ]
  },
  {
   "cell_type": "code",
   "execution_count": 43,
   "id": "305d259a",
   "metadata": {},
   "outputs": [],
   "source": [
    "y = pd.get_dummies(target).values"
   ]
  },
  {
   "cell_type": "code",
   "execution_count": 44,
   "id": "47b07484",
   "metadata": {},
   "outputs": [
    {
     "name": "stdout",
     "output_type": "stream",
     "text": [
      "<class 'numpy.ndarray'>\n"
     ]
    },
    {
     "data": {
      "text/plain": [
       "array([[0, 0, 1],\n",
       "       [1, 0, 0],\n",
       "       [1, 0, 0],\n",
       "       [1, 0, 0]], dtype=uint8)"
      ]
     },
     "execution_count": 44,
     "metadata": {},
     "output_type": "execute_result"
    }
   ],
   "source": [
    "print(type(y))\n",
    "y[:4]"
   ]
  },
  {
   "cell_type": "code",
   "execution_count": 66,
   "id": "9432f851",
   "metadata": {},
   "outputs": [],
   "source": [
    "df_no_tweet = df_2.drop(['upDown', 'Tweet', 'Date','Retweets'], axis=1)"
   ]
  },
  {
   "cell_type": "code",
   "execution_count": 67,
   "id": "463e0d7e",
   "metadata": {},
   "outputs": [],
   "source": [
    "X = df_no_tweet.drop(columns=['Sentiment']).values"
   ]
  },
  {
   "cell_type": "code",
   "execution_count": 68,
   "id": "33cbaf95",
   "metadata": {},
   "outputs": [
    {
     "data": {
      "text/plain": [
       "(6554,)"
      ]
     },
     "execution_count": 68,
     "metadata": {},
     "output_type": "execute_result"
    }
   ],
   "source": [
    "X[0].shape"
   ]
  },
  {
   "cell_type": "code",
   "execution_count": 69,
   "id": "b70f9c7f",
   "metadata": {},
   "outputs": [
    {
     "data": {
      "text/plain": [
       "(12206, 6554)"
      ]
     },
     "execution_count": 69,
     "metadata": {},
     "output_type": "execute_result"
    }
   ],
   "source": [
    "X.shape"
   ]
  },
  {
   "cell_type": "code",
   "execution_count": 70,
   "id": "ceb2c56a",
   "metadata": {},
   "outputs": [
    {
     "name": "stdout",
     "output_type": "stream",
     "text": [
      "<class 'numpy.ndarray'>\n"
     ]
    }
   ],
   "source": [
    "print(type(y))"
   ]
  },
  {
   "cell_type": "code",
   "execution_count": null,
   "id": "19c82507",
   "metadata": {},
   "outputs": [],
   "source": [
    "X_train, X_test, y_train, y_test = train_test_split(X, y, test_size = 0.2, random_state = 0)"
   ]
  },
  {
   "cell_type": "code",
   "execution_count": null,
   "id": "b25dc91c",
   "metadata": {},
   "outputs": [],
   "source": [
    "X_train=np.asarray(X_train).astype(np.int)\n",
    "\n",
    "y_train=np.asarray(y_train).astype(np.int)"
   ]
  },
  {
   "cell_type": "code",
   "execution_count": 54,
   "id": "33402ae9",
   "metadata": {
    "scrolled": true
   },
   "outputs": [
    {
     "ename": "ValueError",
     "evalue": "Failed to convert a NumPy array to a Tensor (Unsupported object type int).",
     "output_type": "error",
     "traceback": [
      "\u001b[1;31m---------------------------------------------------------------------------\u001b[0m",
      "\u001b[1;31mValueError\u001b[0m                                Traceback (most recent call last)",
      "Input \u001b[1;32mIn [54]\u001b[0m, in \u001b[0;36m<cell line: 6>\u001b[1;34m()\u001b[0m\n\u001b[0;32m      4\u001b[0m classifier\u001b[38;5;241m.\u001b[39madd(Dense(units \u001b[38;5;241m=\u001b[39m \u001b[38;5;241m2\u001b[39m, kernel_initializer\u001b[38;5;241m=\u001b[39m\u001b[38;5;124m'\u001b[39m\u001b[38;5;124muniform\u001b[39m\u001b[38;5;124m'\u001b[39m, activation \u001b[38;5;241m=\u001b[39m \u001b[38;5;124m'\u001b[39m\u001b[38;5;124msoftmax\u001b[39m\u001b[38;5;124m'\u001b[39m))\n\u001b[0;32m      5\u001b[0m classifier\u001b[38;5;241m.\u001b[39mcompile(optimizer \u001b[38;5;241m=\u001b[39m \u001b[38;5;124m'\u001b[39m\u001b[38;5;124madam\u001b[39m\u001b[38;5;124m'\u001b[39m, loss \u001b[38;5;241m=\u001b[39m \u001b[38;5;124m'\u001b[39m\u001b[38;5;124mbinary_crossentropy\u001b[39m\u001b[38;5;124m'\u001b[39m, metrics \u001b[38;5;241m=\u001b[39m [\u001b[38;5;124m'\u001b[39m\u001b[38;5;124maccuracy\u001b[39m\u001b[38;5;124m'\u001b[39m])\n\u001b[1;32m----> 6\u001b[0m c \u001b[38;5;241m=\u001b[39m \u001b[43mclassifier\u001b[49m\u001b[38;5;241;43m.\u001b[39;49m\u001b[43mfit\u001b[49m\u001b[43m(\u001b[49m\u001b[43mX_train\u001b[49m\u001b[43m,\u001b[49m\u001b[43m \u001b[49m\u001b[43my_train\u001b[49m\u001b[43m,\u001b[49m\u001b[43m \u001b[49m\u001b[43mbatch_size\u001b[49m\u001b[43m \u001b[49m\u001b[38;5;241;43m=\u001b[39;49m\u001b[43m \u001b[49m\u001b[38;5;241;43m10\u001b[39;49m\u001b[43m,\u001b[49m\u001b[43m \u001b[49m\u001b[43mepochs\u001b[49m\u001b[43m \u001b[49m\u001b[38;5;241;43m=\u001b[39;49m\u001b[43m \u001b[49m\u001b[38;5;241;43m4\u001b[39;49m\u001b[43m,\u001b[49m\u001b[43m \u001b[49m\u001b[43mvalidation_split\u001b[49m\u001b[38;5;241;43m=\u001b[39;49m\u001b[38;5;241;43m0.1\u001b[39;49m\u001b[43m)\u001b[49m\n",
      "File \u001b[1;32m~\\AppData\\Local\\Programs\\Python\\Python39\\lib\\site-packages\\keras\\utils\\traceback_utils.py:67\u001b[0m, in \u001b[0;36mfilter_traceback.<locals>.error_handler\u001b[1;34m(*args, **kwargs)\u001b[0m\n\u001b[0;32m     65\u001b[0m \u001b[38;5;28;01mexcept\u001b[39;00m \u001b[38;5;167;01mException\u001b[39;00m \u001b[38;5;28;01mas\u001b[39;00m e:  \u001b[38;5;66;03m# pylint: disable=broad-except\u001b[39;00m\n\u001b[0;32m     66\u001b[0m   filtered_tb \u001b[38;5;241m=\u001b[39m _process_traceback_frames(e\u001b[38;5;241m.\u001b[39m__traceback__)\n\u001b[1;32m---> 67\u001b[0m   \u001b[38;5;28;01mraise\u001b[39;00m e\u001b[38;5;241m.\u001b[39mwith_traceback(filtered_tb) \u001b[38;5;28;01mfrom\u001b[39;00m \u001b[38;5;28mNone\u001b[39m\n\u001b[0;32m     68\u001b[0m \u001b[38;5;28;01mfinally\u001b[39;00m:\n\u001b[0;32m     69\u001b[0m   \u001b[38;5;28;01mdel\u001b[39;00m filtered_tb\n",
      "File \u001b[1;32m~\\AppData\\Local\\Programs\\Python\\Python39\\lib\\site-packages\\tensorflow\\python\\framework\\constant_op.py:102\u001b[0m, in \u001b[0;36mconvert_to_eager_tensor\u001b[1;34m(value, ctx, dtype)\u001b[0m\n\u001b[0;32m    100\u001b[0m     dtype \u001b[38;5;241m=\u001b[39m dtypes\u001b[38;5;241m.\u001b[39mas_dtype(dtype)\u001b[38;5;241m.\u001b[39mas_datatype_enum\n\u001b[0;32m    101\u001b[0m ctx\u001b[38;5;241m.\u001b[39mensure_initialized()\n\u001b[1;32m--> 102\u001b[0m \u001b[38;5;28;01mreturn\u001b[39;00m \u001b[43mops\u001b[49m\u001b[38;5;241;43m.\u001b[39;49m\u001b[43mEagerTensor\u001b[49m\u001b[43m(\u001b[49m\u001b[43mvalue\u001b[49m\u001b[43m,\u001b[49m\u001b[43m \u001b[49m\u001b[43mctx\u001b[49m\u001b[38;5;241;43m.\u001b[39;49m\u001b[43mdevice_name\u001b[49m\u001b[43m,\u001b[49m\u001b[43m \u001b[49m\u001b[43mdtype\u001b[49m\u001b[43m)\u001b[49m\n",
      "\u001b[1;31mValueError\u001b[0m: Failed to convert a NumPy array to a Tensor (Unsupported object type int)."
     ]
    }
   ],
   "source": [
    "classifier = Sequential()\n",
    "classifier.add(Dense(units = 15, kernel_initializer='uniform', activation = 'tanh'))\n",
    "classifier.add(Dense(units = 15, kernel_initializer='uniform', activation = 'tanh'))\n",
    "classifier.add(Dense(units = 2, kernel_initializer='uniform', activation = 'softmax'))\n",
    "classifier.compile(optimizer = 'adam', loss = 'binary_crossentropy', metrics = ['accuracy'])\n",
    "c = classifier.fit(X_train, y_train, batch_size = 10, epochs = 4, validation_split=0.1)"
   ]
  },
  {
   "cell_type": "code",
   "execution_count": null,
   "id": "ef5c348e",
   "metadata": {},
   "outputs": [],
   "source": [
    "score_no_tweet, acc_no_tweet = classifier.evaluate(X_test, y_test, verbose = 2, batch_size = 32)\n",
    "print(\"score for the test data no tweet model: %.3f\" % (score_no_tweet))\n",
    "print(\"acc for the test data  no tweet model: %.7f\" % (acc_no_tweet))\n",
    "\n",
    "score_train_no_tweet, acc_train_no_tweet = classifier.evaluate(X_train, y_train, verbose = 2, batch_size = 32)\n",
    "print(\"score for the training data no tweet model: %.3f\" % (score_train_no_tweet))\n",
    "print(\"acc for the training data no tweet model: %.7f\" % (acc_train_no_tweet))"
   ]
  },
  {
   "cell_type": "code",
   "execution_count": null,
   "id": "60467932",
   "metadata": {},
   "outputs": [],
   "source": []
  }
 ],
 "metadata": {
  "kernelspec": {
   "display_name": "Python 3 (ipykernel)",
   "language": "python",
   "name": "python3"
  },
  "language_info": {
   "codemirror_mode": {
    "name": "ipython",
    "version": 3
   },
   "file_extension": ".py",
   "mimetype": "text/x-python",
   "name": "python",
   "nbconvert_exporter": "python",
   "pygments_lexer": "ipython3",
   "version": "3.9.12"
  }
 },
 "nbformat": 4,
 "nbformat_minor": 5
}
