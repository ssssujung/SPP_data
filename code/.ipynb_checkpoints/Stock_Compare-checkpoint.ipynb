{
 "cells": [
  {
   "cell_type": "code",
   "execution_count": 1,
   "id": "43ba100e",
   "metadata": {},
   "outputs": [],
   "source": [
    "import pandas as pd\n",
    "import math\n",
    "fname_input = '../csv/TSLA.csv'\n",
    "data = pd.read_csv(fname_input)"
   ]
  },
  {
   "cell_type": "code",
   "execution_count": 2,
   "id": "3f6014f5",
   "metadata": {},
   "outputs": [],
   "source": [
    "def truncate(number, digits) -> float:\n",
    "    nbDecimals = len(str(number).split('.')[1]) \n",
    "    if nbDecimals <= digits:\n",
    "        return number\n",
    "    stepper = 10.0 ** digits\n",
    "    return math.trunc(stepper * number) / stepper"
   ]
  },
  {
   "cell_type": "code",
   "execution_count": 3,
   "id": "0aa33d24",
   "metadata": {},
   "outputs": [],
   "source": [
    "data['gap'] = 0 # 몇 퍼센트 상승, 하락했는지\n",
    "data['upDown'] = 0 # 1퍼센트 이상 -1 : down, 1: up, 0 : same(default)"
   ]
  },
  {
   "cell_type": "code",
   "execution_count": 4,
   "id": "879075dd",
   "metadata": {},
   "outputs": [],
   "source": [
    "for i in range(data.shape[0]) :\n",
    "    num = data.loc[i, 'Close'] - data.loc[i, 'Open']\n",
    "    gap = (num / data.loc[i, 'Open']) * 100\n",
    "    gap = truncate(gap, 2)\n",
    "    data.loc[i, 'gap'] = gap\n",
    "    if num < 0 and gap <= -1 : data.loc[i, 'upDown'] = -1\n",
    "    elif num > 0 and gap >= 1 : data.loc[i, 'upDown'] = 1\n",
    "    else : data.loc[i, 'upDown'] = 0"
   ]
  },
  {
   "cell_type": "code",
   "execution_count": 5,
   "id": "41ccb0fb",
   "metadata": {},
   "outputs": [],
   "source": [
    "data = data.drop(columns=['High', 'Low', 'Adj Close'])"
   ]
  },
  {
   "cell_type": "code",
   "execution_count": 6,
   "id": "97473b1d",
   "metadata": {},
   "outputs": [
    {
     "data": {
      "text/html": [
       "<div>\n",
       "<style scoped>\n",
       "    .dataframe tbody tr th:only-of-type {\n",
       "        vertical-align: middle;\n",
       "    }\n",
       "\n",
       "    .dataframe tbody tr th {\n",
       "        vertical-align: top;\n",
       "    }\n",
       "\n",
       "    .dataframe thead th {\n",
       "        text-align: right;\n",
       "    }\n",
       "</style>\n",
       "<table border=\"1\" class=\"dataframe\">\n",
       "  <thead>\n",
       "    <tr style=\"text-align: right;\">\n",
       "      <th></th>\n",
       "      <th>Date</th>\n",
       "      <th>Open</th>\n",
       "      <th>Close</th>\n",
       "      <th>Volume</th>\n",
       "      <th>gap</th>\n",
       "      <th>upDown</th>\n",
       "    </tr>\n",
       "  </thead>\n",
       "  <tbody>\n",
       "    <tr>\n",
       "      <th>0</th>\n",
       "      <td>2010-06-29</td>\n",
       "      <td>3.800</td>\n",
       "      <td>4.778</td>\n",
       "      <td>93831500</td>\n",
       "      <td>25.73</td>\n",
       "      <td>1</td>\n",
       "    </tr>\n",
       "    <tr>\n",
       "      <th>1</th>\n",
       "      <td>2010-06-30</td>\n",
       "      <td>5.158</td>\n",
       "      <td>4.766</td>\n",
       "      <td>85935500</td>\n",
       "      <td>-7.59</td>\n",
       "      <td>-1</td>\n",
       "    </tr>\n",
       "    <tr>\n",
       "      <th>2</th>\n",
       "      <td>2010-07-01</td>\n",
       "      <td>5.000</td>\n",
       "      <td>4.392</td>\n",
       "      <td>41094000</td>\n",
       "      <td>-12.15</td>\n",
       "      <td>-1</td>\n",
       "    </tr>\n",
       "    <tr>\n",
       "      <th>3</th>\n",
       "      <td>2010-07-02</td>\n",
       "      <td>4.600</td>\n",
       "      <td>3.840</td>\n",
       "      <td>25699000</td>\n",
       "      <td>-16.52</td>\n",
       "      <td>-1</td>\n",
       "    </tr>\n",
       "    <tr>\n",
       "      <th>4</th>\n",
       "      <td>2010-07-06</td>\n",
       "      <td>4.000</td>\n",
       "      <td>3.222</td>\n",
       "      <td>34334500</td>\n",
       "      <td>-19.45</td>\n",
       "      <td>-1</td>\n",
       "    </tr>\n",
       "  </tbody>\n",
       "</table>\n",
       "</div>"
      ],
      "text/plain": [
       "         Date   Open  Close    Volume    gap  upDown\n",
       "0  2010-06-29  3.800  4.778  93831500  25.73       1\n",
       "1  2010-06-30  5.158  4.766  85935500  -7.59      -1\n",
       "2  2010-07-01  5.000  4.392  41094000 -12.15      -1\n",
       "3  2010-07-02  4.600  3.840  25699000 -16.52      -1\n",
       "4  2010-07-06  4.000  3.222  34334500 -19.45      -1"
      ]
     },
     "execution_count": 6,
     "metadata": {},
     "output_type": "execute_result"
    }
   ],
   "source": [
    "data.head()"
   ]
  },
  {
   "cell_type": "code",
   "execution_count": 7,
   "id": "bed16206",
   "metadata": {},
   "outputs": [],
   "source": [
    "data.to_csv('../csv/TSLA_addStockComp.csv', index=False)"
   ]
  }
 ],
 "metadata": {
  "kernelspec": {
   "display_name": "Python 3 (ipykernel)",
   "language": "python",
   "name": "python3"
  },
  "language_info": {
   "codemirror_mode": {
    "name": "ipython",
    "version": 3
   },
   "file_extension": ".py",
   "mimetype": "text/x-python",
   "name": "python",
   "nbconvert_exporter": "python",
   "pygments_lexer": "ipython3",
   "version": "3.9.5"
  },
  "varInspector": {
   "cols": {
    "lenName": 16,
    "lenType": 16,
    "lenVar": 40
   },
   "kernels_config": {
    "python": {
     "delete_cmd_postfix": "",
     "delete_cmd_prefix": "del ",
     "library": "var_list.py",
     "varRefreshCmd": "print(var_dic_list())"
    },
    "r": {
     "delete_cmd_postfix": ") ",
     "delete_cmd_prefix": "rm(",
     "library": "var_list.r",
     "varRefreshCmd": "cat(var_dic_list()) "
    }
   },
   "types_to_exclude": [
    "module",
    "function",
    "builtin_function_or_method",
    "instance",
    "_Feature"
   ],
   "window_display": false
  }
 },
 "nbformat": 4,
 "nbformat_minor": 5
}
